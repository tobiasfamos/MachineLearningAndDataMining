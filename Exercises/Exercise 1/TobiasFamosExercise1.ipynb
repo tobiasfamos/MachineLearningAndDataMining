{
 "cells": [
  {
   "cell_type": "markdown",
   "source": [
    "# Exercise 1\n",
    "Author: Tobias Famos"
   ],
   "metadata": {
    "collapsed": false
   }
  },
  {
   "cell_type": "markdown",
   "source": [
    "# Importing the needed Packages"
   ],
   "metadata": {
    "collapsed": false
   }
  },
  {
   "cell_type": "code",
   "execution_count": 366,
   "outputs": [],
   "source": [
    "import pandas\n",
    "from sklearn import preprocessing\n",
    "from sklearn.model_selection import train_test_split\n",
    "from mlxtend.evaluate import accuracy_score\n",
    "from mlxtend.classifier import OneRClassifier"
   ],
   "metadata": {
    "collapsed": false,
    "pycharm": {
     "name": "#%%\n"
    }
   }
  },
  {
   "cell_type": "markdown",
   "source": [
    "# Task 1\n",
    "First lets define a function to evaluate prediction rules. Prediction rules will be give and a lambda function doing it's decision based only on a single row."
   ],
   "metadata": {
    "collapsed": false
   }
  },
  {
   "cell_type": "markdown",
   "source": [
    "## Loading the Data"
   ],
   "metadata": {
    "collapsed": false
   }
  },
  {
   "cell_type": "code",
   "execution_count": 367,
   "metadata": {
    "collapsed": true
   },
   "outputs": [
    {
     "data": {
      "text/plain": "   Survived  Pclass                                                Name  \\\n0         0       3                              Mr. Owen Harris Braund   \n1         1       1  Mrs. John Bradley (Florence Briggs Thayer) Cumings   \n2         1       3                               Miss. Laina Heikkinen   \n3         1       1         Mrs. Jacques Heath (Lily May Peel) Futrelle   \n4         0       3                             Mr. William Henry Allen   \n5         0       3                                     Mr. James Moran   \n6         0       1                              Mr. Timothy J McCarthy   \n7         0       3                       Master. Gosta Leonard Palsson   \n8         1       3    Mrs. Oscar W (Elisabeth Vilhelmina Berg) Johnson   \n9         1       2                  Mrs. Nicholas (Adele Achem) Nasser   \n\n      Sex   Age  Siblings/Spouses Aboard  Parents/Children Aboard     Fare  \n0    male  22.0                        1                        0   7.2500  \n1  female  38.0                        1                        0  71.2833  \n2  female  26.0                        0                        0   7.9250  \n3  female  35.0                        1                        0  53.1000  \n4    male  35.0                        0                        0   8.0500  \n5    male  27.0                        0                        0   8.4583  \n6    male  54.0                        0                        0  51.8625  \n7    male   2.0                        3                        1  21.0750  \n8  female  27.0                        0                        2  11.1333  \n9  female  14.0                        1                        0  30.0708  ",
      "text/html": "<div>\n<style scoped>\n    .dataframe tbody tr th:only-of-type {\n        vertical-align: middle;\n    }\n\n    .dataframe tbody tr th {\n        vertical-align: top;\n    }\n\n    .dataframe thead th {\n        text-align: right;\n    }\n</style>\n<table border=\"1\" class=\"dataframe\">\n  <thead>\n    <tr style=\"text-align: right;\">\n      <th></th>\n      <th>Survived</th>\n      <th>Pclass</th>\n      <th>Name</th>\n      <th>Sex</th>\n      <th>Age</th>\n      <th>Siblings/Spouses Aboard</th>\n      <th>Parents/Children Aboard</th>\n      <th>Fare</th>\n    </tr>\n  </thead>\n  <tbody>\n    <tr>\n      <th>0</th>\n      <td>0</td>\n      <td>3</td>\n      <td>Mr. Owen Harris Braund</td>\n      <td>male</td>\n      <td>22.0</td>\n      <td>1</td>\n      <td>0</td>\n      <td>7.2500</td>\n    </tr>\n    <tr>\n      <th>1</th>\n      <td>1</td>\n      <td>1</td>\n      <td>Mrs. John Bradley (Florence Briggs Thayer) Cumings</td>\n      <td>female</td>\n      <td>38.0</td>\n      <td>1</td>\n      <td>0</td>\n      <td>71.2833</td>\n    </tr>\n    <tr>\n      <th>2</th>\n      <td>1</td>\n      <td>3</td>\n      <td>Miss. Laina Heikkinen</td>\n      <td>female</td>\n      <td>26.0</td>\n      <td>0</td>\n      <td>0</td>\n      <td>7.9250</td>\n    </tr>\n    <tr>\n      <th>3</th>\n      <td>1</td>\n      <td>1</td>\n      <td>Mrs. Jacques Heath (Lily May Peel) Futrelle</td>\n      <td>female</td>\n      <td>35.0</td>\n      <td>1</td>\n      <td>0</td>\n      <td>53.1000</td>\n    </tr>\n    <tr>\n      <th>4</th>\n      <td>0</td>\n      <td>3</td>\n      <td>Mr. William Henry Allen</td>\n      <td>male</td>\n      <td>35.0</td>\n      <td>0</td>\n      <td>0</td>\n      <td>8.0500</td>\n    </tr>\n    <tr>\n      <th>5</th>\n      <td>0</td>\n      <td>3</td>\n      <td>Mr. James Moran</td>\n      <td>male</td>\n      <td>27.0</td>\n      <td>0</td>\n      <td>0</td>\n      <td>8.4583</td>\n    </tr>\n    <tr>\n      <th>6</th>\n      <td>0</td>\n      <td>1</td>\n      <td>Mr. Timothy J McCarthy</td>\n      <td>male</td>\n      <td>54.0</td>\n      <td>0</td>\n      <td>0</td>\n      <td>51.8625</td>\n    </tr>\n    <tr>\n      <th>7</th>\n      <td>0</td>\n      <td>3</td>\n      <td>Master. Gosta Leonard Palsson</td>\n      <td>male</td>\n      <td>2.0</td>\n      <td>3</td>\n      <td>1</td>\n      <td>21.0750</td>\n    </tr>\n    <tr>\n      <th>8</th>\n      <td>1</td>\n      <td>3</td>\n      <td>Mrs. Oscar W (Elisabeth Vilhelmina Berg) Johnson</td>\n      <td>female</td>\n      <td>27.0</td>\n      <td>0</td>\n      <td>2</td>\n      <td>11.1333</td>\n    </tr>\n    <tr>\n      <th>9</th>\n      <td>1</td>\n      <td>2</td>\n      <td>Mrs. Nicholas (Adele Achem) Nasser</td>\n      <td>female</td>\n      <td>14.0</td>\n      <td>1</td>\n      <td>0</td>\n      <td>30.0708</td>\n    </tr>\n  </tbody>\n</table>\n</div>"
     },
     "execution_count": 367,
     "metadata": {},
     "output_type": "execute_result"
    }
   ],
   "source": [
    "df = pandas.read_csv(\"Data/titanic.csv\")\n",
    "df.head(10)"
   ]
  },
  {
   "cell_type": "markdown",
   "source": [],
   "metadata": {
    "collapsed": false
   }
  },
  {
   "cell_type": "code",
   "execution_count": 368,
   "outputs": [],
   "source": [
    "def is_correct_prediction(row, prediction_name):\n",
    "    if row['Survived'] == row[prediction_name]:\n",
    "        return True\n",
    "    else:\n",
    "        return False\n",
    "\n",
    "def predict_and_evaluate(func):\n",
    "    df['prediction'] = df.apply (lambda row: func(row), axis=1)\n",
    "    correct_predictions = df.apply(lambda row: is_correct_prediction(row, 'prediction'), axis=1)\n",
    "    accuracy =  correct_predictions.value_counts()[True] / correct_predictions.size\n",
    "    print(f\"Accuracy for {func.__name__}: {accuracy}\")\n",
    "    return accuracy\n"
   ],
   "metadata": {
    "collapsed": false,
    "pycharm": {
     "name": "#%%\n"
    }
   }
  },
  {
   "cell_type": "markdown",
   "source": [
    "## Task 1.a) What is the best default rule for this dataset?\n",
    "There are two possible rules without any prior knowledge of the person:\n",
    "- survived = yes\n",
    "- survived = no;\n",
    "Let's count the values and see which brings the higher accuracy."
   ],
   "metadata": {
    "collapsed": false
   }
  },
  {
   "cell_type": "code",
   "execution_count": 369,
   "outputs": [
    {
     "name": "stdout",
     "output_type": "stream",
     "text": [
      "Accuracy for label_all_died: 0.6144306651634723\n",
      "Accuracy for label_all_survived: 0.3855693348365276\n"
     ]
    },
    {
     "data": {
      "text/plain": "0.3855693348365276"
     },
     "execution_count": 369,
     "metadata": {},
     "output_type": "execute_result"
    }
   ],
   "source": [
    "def label_all_died(row):\n",
    "    return 0\n",
    "\n",
    "def label_all_survived(row):\n",
    "    return 1\n",
    "\n",
    "predict_and_evaluate(label_all_died)\n",
    "predict_and_evaluate(label_all_survived)\n",
    "\n"
   ],
   "metadata": {
    "collapsed": false,
    "pycharm": {
     "name": "#%%\n"
    }
   }
  },
  {
   "cell_type": "markdown",
   "source": [
    "As one can see from the output above, the best accuracy is when we use the default rule survived = 0."
   ],
   "metadata": {
    "collapsed": false,
    "pycharm": {
     "name": "#%% md\n"
    }
   }
  },
  {
   "cell_type": "markdown",
   "source": [
    "## Task 1.b)\n",
    "What is the best 1R for this dataset?\n",
    "Lets first import our OneRClassifier"
   ],
   "metadata": {
    "collapsed": false
   }
  },
  {
   "cell_type": "markdown",
   "source": [
    "Define a function to evaluate a OneR based on one attribute"
   ],
   "metadata": {
    "collapsed": false
   }
  },
  {
   "cell_type": "code",
   "execution_count": 370,
   "outputs": [],
   "source": [
    "def create_and_evaluate_1R_for_attribute(attribute):\n",
    "    x_d = df[[attribute]]\n",
    "    y = df[\"Survived\"]\n",
    "    x_d_train, x_d_test, y_train, y_test = train_test_split(x_d, y, test_size=0.2)\n",
    "    one_r = OneRClassifier()\n",
    "    one_r.fit(x_d_train.to_numpy(), y_train)\n",
    "    y_pred = one_r.predict(x_d_test.to_numpy())\n",
    "    accuracy = accuracy_score(y_test, y_pred)\n",
    "    print(f'Accuracy for 1R based on attribute {attribute}: {accuracy}')"
   ],
   "metadata": {
    "collapsed": false,
    "pycharm": {
     "name": "#%%\n"
    }
   }
  },
  {
   "cell_type": "markdown",
   "source": [
    "Evaluate all the possible Attributes"
   ],
   "metadata": {
    "collapsed": false
   }
  },
  {
   "cell_type": "code",
   "execution_count": 371,
   "outputs": [
    {
     "name": "stdout",
     "output_type": "stream",
     "text": [
      "Accuracy for 1R based on attribute Pclass: 0.6910112359550562\n",
      "Accuracy for 1R based on attribute Sex: 0.8033707865168539\n",
      "Accuracy for 1R based on attribute Age: 0.5842696629213483\n",
      "Accuracy for 1R based on attribute Siblings/Spouses Aboard: 0.5898876404494382\n",
      "Accuracy for 1R based on attribute Parents/Children Aboard: 0.5955056179775281\n",
      "Accuracy for 1R based on attribute Fare: 0.6573033707865169\n"
     ]
    }
   ],
   "source": [
    "create_and_evaluate_1R_for_attribute('Pclass')\n",
    "create_and_evaluate_1R_for_attribute('Sex')\n",
    "create_and_evaluate_1R_for_attribute('Age')\n",
    "create_and_evaluate_1R_for_attribute('Siblings/Spouses Aboard')\n",
    "create_and_evaluate_1R_for_attribute('Parents/Children Aboard')\n",
    "create_and_evaluate_1R_for_attribute('Fare')\n"
   ],
   "metadata": {
    "collapsed": false,
    "pycharm": {
     "name": "#%%\n"
    }
   }
  },
  {
   "cell_type": "markdown",
   "source": [
    "So the best 1R Rule for this datasets seems to be based on sex. Let's write the predictor just for fun and see the error throughout the whole dataset."
   ],
   "metadata": {
    "collapsed": false
   }
  },
  {
   "cell_type": "code",
   "execution_count": 372,
   "outputs": [
    {
     "name": "stdout",
     "output_type": "stream",
     "text": [
      "Accuracy for 1R based on attribute Fare: 0.6910112359550562\n"
     ]
    }
   ],
   "source": [
    "create_and_evaluate_1R_for_attribute('Fare')\n"
   ],
   "metadata": {
    "collapsed": false,
    "pycharm": {
     "name": "#%%\n"
    }
   }
  },
  {
   "cell_type": "code",
   "execution_count": 373,
   "outputs": [
    {
     "name": "stdout",
     "output_type": "stream",
     "text": [
      "Accuracy for one_rule_sex: 0.7857948139797069\n"
     ]
    },
    {
     "data": {
      "text/plain": "0.7857948139797069"
     },
     "execution_count": 373,
     "metadata": {},
     "output_type": "execute_result"
    }
   ],
   "source": [
    "def one_rule_sex(row):\n",
    "    if row['Sex'] == 'female':\n",
    "        return 1\n",
    "    return 0\n",
    "predict_and_evaluate(one_rule_sex)"
   ],
   "metadata": {
    "collapsed": false,
    "pycharm": {
     "name": "#%%\n"
    }
   }
  },
  {
   "cell_type": "markdown",
   "source": [
    "## Task 1.c) Can you produce a second rule based on a single attribute with a good effectiveness?\n",
    "\n",
    "Sure, we will just take the second highest ranking rule above."
   ],
   "metadata": {
    "collapsed": false
   }
  },
  {
   "cell_type": "code",
   "execution_count": 374,
   "outputs": [
    {
     "name": "stdout",
     "output_type": "stream",
     "text": [
      "Accuracy for 1R based on attribute Pclass: 0.702247191011236\n",
      "Accuracy for 1R based on attribute Sex: 0.7752808988764045\n",
      "Accuracy for 1R based on attribute Age: 0.5955056179775281\n",
      "Accuracy for 1R based on attribute Siblings/Spouses Aboard: 0.6067415730337079\n",
      "Accuracy for 1R based on attribute Parents/Children Aboard: 0.6067415730337079\n",
      "Accuracy for 1R based on attribute Fare: 0.6685393258426966\n"
     ]
    }
   ],
   "source": [
    "create_and_evaluate_1R_for_attribute('Pclass')\n",
    "create_and_evaluate_1R_for_attribute('Sex')\n",
    "create_and_evaluate_1R_for_attribute('Age')\n",
    "create_and_evaluate_1R_for_attribute('Siblings/Spouses Aboard')\n",
    "create_and_evaluate_1R_for_attribute('Parents/Children Aboard')\n",
    "create_and_evaluate_1R_for_attribute('Fare')"
   ],
   "metadata": {
    "collapsed": false,
    "pycharm": {
     "name": "#%%\n"
    }
   }
  },
  {
   "cell_type": "markdown",
   "source": [
    "\n",
    "Depending on the Test / Train split we run here, this is either the second best attribute to pick is either Fare or Class. As the Fare is just dependent on the class (First class being more expensive than third, we will just pick the class as the second rule).\n",
    "Once again, I write the rule function and evaluate it over the whole dataset."
   ],
   "metadata": {
    "collapsed": false
   }
  },
  {
   "cell_type": "code",
   "execution_count": 375,
   "outputs": [
    {
     "name": "stdout",
     "output_type": "stream",
     "text": [
      "Accuracy for one_rule_class: 0.677564825253664\n"
     ]
    },
    {
     "data": {
      "text/plain": "0.677564825253664"
     },
     "execution_count": 375,
     "metadata": {},
     "output_type": "execute_result"
    }
   ],
   "source": [
    "def one_rule_class(row):\n",
    "    if row['Pclass'] == 1:\n",
    "        return 1\n",
    "    return 0\n",
    "\n",
    "predict_and_evaluate(one_rule_class)"
   ],
   "metadata": {
    "collapsed": false,
    "pycharm": {
     "name": "#%%\n"
    }
   }
  },
  {
   "cell_type": "markdown",
   "source": [
    "# Task 2\n",
    "Using your select stock / market index and your decision criterion (binary or ternary) on the daily return of the next day or on the trend (daily return after 5/10 days), can you generate a 1R model using as possible predictor the volume, and the moving average (with a period of 5, 10, 20 50 or 200). You can learn on all days except the last 100 (that will be used as the test set).\n",
    "\n",
    "Let's clarify the task first:\n",
    "- Selected market index: SMI\n",
    "- decision criterion: Binary (Up or down)\n",
    "- timeframe: daily."
   ],
   "metadata": {
    "collapsed": false
   }
  },
  {
   "cell_type": "markdown",
   "source": [],
   "metadata": {
    "collapsed": false
   }
  },
  {
   "cell_type": "code",
   "execution_count": 376,
   "outputs": [
    {
     "data": {
      "text/plain": "               Open          High           Low         Close     Adj Close  \\\ncount   7750.000000   7750.000000   7750.000000   7750.000000   7750.000000   \nmean    6467.866175   6506.270381   6427.279904   6467.621751   6467.621751   \nstd     2495.146649   2505.374595   2483.327749   2494.479880   2494.479880   \nmin     1288.699951   1296.599976   1279.000000   1287.599976   1287.599976   \n25%     5118.052368   5168.074829   5068.750122   5123.877563   5123.877563   \n50%     6683.669922   6721.635010   6644.150146   6681.550049   6681.550049   \n75%     8334.000244   8383.030273   8282.442871   8329.642334   8329.642334   \nmax    12505.969727  12573.429688  12456.919922  12545.349609  12545.349609   \n\n             Volume  \ncount  7.750000e+03  \nmean   3.646313e+07  \nstd    3.642250e+07  \nmin    0.000000e+00  \n25%    0.000000e+00  \n50%    3.974700e+07  \n75%    5.766898e+07  \nmax    3.467677e+08  ",
      "text/html": "<div>\n<style scoped>\n    .dataframe tbody tr th:only-of-type {\n        vertical-align: middle;\n    }\n\n    .dataframe tbody tr th {\n        vertical-align: top;\n    }\n\n    .dataframe thead th {\n        text-align: right;\n    }\n</style>\n<table border=\"1\" class=\"dataframe\">\n  <thead>\n    <tr style=\"text-align: right;\">\n      <th></th>\n      <th>Open</th>\n      <th>High</th>\n      <th>Low</th>\n      <th>Close</th>\n      <th>Adj Close</th>\n      <th>Volume</th>\n    </tr>\n  </thead>\n  <tbody>\n    <tr>\n      <th>count</th>\n      <td>7750.000000</td>\n      <td>7750.000000</td>\n      <td>7750.000000</td>\n      <td>7750.000000</td>\n      <td>7750.000000</td>\n      <td>7.750000e+03</td>\n    </tr>\n    <tr>\n      <th>mean</th>\n      <td>6467.866175</td>\n      <td>6506.270381</td>\n      <td>6427.279904</td>\n      <td>6467.621751</td>\n      <td>6467.621751</td>\n      <td>3.646313e+07</td>\n    </tr>\n    <tr>\n      <th>std</th>\n      <td>2495.146649</td>\n      <td>2505.374595</td>\n      <td>2483.327749</td>\n      <td>2494.479880</td>\n      <td>2494.479880</td>\n      <td>3.642250e+07</td>\n    </tr>\n    <tr>\n      <th>min</th>\n      <td>1288.699951</td>\n      <td>1296.599976</td>\n      <td>1279.000000</td>\n      <td>1287.599976</td>\n      <td>1287.599976</td>\n      <td>0.000000e+00</td>\n    </tr>\n    <tr>\n      <th>25%</th>\n      <td>5118.052368</td>\n      <td>5168.074829</td>\n      <td>5068.750122</td>\n      <td>5123.877563</td>\n      <td>5123.877563</td>\n      <td>0.000000e+00</td>\n    </tr>\n    <tr>\n      <th>50%</th>\n      <td>6683.669922</td>\n      <td>6721.635010</td>\n      <td>6644.150146</td>\n      <td>6681.550049</td>\n      <td>6681.550049</td>\n      <td>3.974700e+07</td>\n    </tr>\n    <tr>\n      <th>75%</th>\n      <td>8334.000244</td>\n      <td>8383.030273</td>\n      <td>8282.442871</td>\n      <td>8329.642334</td>\n      <td>8329.642334</td>\n      <td>5.766898e+07</td>\n    </tr>\n    <tr>\n      <th>max</th>\n      <td>12505.969727</td>\n      <td>12573.429688</td>\n      <td>12456.919922</td>\n      <td>12545.349609</td>\n      <td>12545.349609</td>\n      <td>3.467677e+08</td>\n    </tr>\n  </tbody>\n</table>\n</div>"
     },
     "execution_count": 376,
     "metadata": {},
     "output_type": "execute_result"
    }
   ],
   "source": [
    "smi = pandas.read_csv(\"Data/SMI.csv\")\n",
    "smi.describe()"
   ],
   "metadata": {
    "collapsed": false,
    "pycharm": {
     "name": "#%%\n"
    }
   }
  },
  {
   "cell_type": "code",
   "execution_count": 377,
   "outputs": [
    {
     "data": {
      "text/plain": "         Date         Open         High          Low        Close  \\\n0  1990-11-09  1378.900024  1389.000000  1375.300049  1387.099976   \n1  1990-11-12  1388.099976  1408.099976  1388.099976  1407.500000   \n2  1990-11-13  1412.199951  1429.400024  1411.400024  1415.199951   \n3  1990-11-14  1413.599976  1413.599976  1402.099976  1410.300049   \n4  1990-11-15  1410.599976  1416.699951  1405.099976  1405.699951   \n5  1990-11-16  1405.699951  1407.400024  1389.400024  1395.199951   \n6  1990-11-19  1395.599976  1417.900024  1395.599976  1416.000000   \n7  1990-11-20  1414.800049  1415.000000  1404.699951  1405.800049   \n8  1990-11-21  1405.599976  1405.599976  1396.699951  1398.400024   \n9  1990-11-22  1400.000000  1401.400024  1384.500000  1388.800049   \n\n     Adj Close  Volume  \n0  1387.099976       0  \n1  1407.500000       0  \n2  1415.199951       0  \n3  1410.300049       0  \n4  1405.699951       0  \n5  1395.199951       0  \n6  1416.000000       0  \n7  1405.800049       0  \n8  1398.400024       0  \n9  1388.800049       0  ",
      "text/html": "<div>\n<style scoped>\n    .dataframe tbody tr th:only-of-type {\n        vertical-align: middle;\n    }\n\n    .dataframe tbody tr th {\n        vertical-align: top;\n    }\n\n    .dataframe thead th {\n        text-align: right;\n    }\n</style>\n<table border=\"1\" class=\"dataframe\">\n  <thead>\n    <tr style=\"text-align: right;\">\n      <th></th>\n      <th>Date</th>\n      <th>Open</th>\n      <th>High</th>\n      <th>Low</th>\n      <th>Close</th>\n      <th>Adj Close</th>\n      <th>Volume</th>\n    </tr>\n  </thead>\n  <tbody>\n    <tr>\n      <th>0</th>\n      <td>1990-11-09</td>\n      <td>1378.900024</td>\n      <td>1389.000000</td>\n      <td>1375.300049</td>\n      <td>1387.099976</td>\n      <td>1387.099976</td>\n      <td>0</td>\n    </tr>\n    <tr>\n      <th>1</th>\n      <td>1990-11-12</td>\n      <td>1388.099976</td>\n      <td>1408.099976</td>\n      <td>1388.099976</td>\n      <td>1407.500000</td>\n      <td>1407.500000</td>\n      <td>0</td>\n    </tr>\n    <tr>\n      <th>2</th>\n      <td>1990-11-13</td>\n      <td>1412.199951</td>\n      <td>1429.400024</td>\n      <td>1411.400024</td>\n      <td>1415.199951</td>\n      <td>1415.199951</td>\n      <td>0</td>\n    </tr>\n    <tr>\n      <th>3</th>\n      <td>1990-11-14</td>\n      <td>1413.599976</td>\n      <td>1413.599976</td>\n      <td>1402.099976</td>\n      <td>1410.300049</td>\n      <td>1410.300049</td>\n      <td>0</td>\n    </tr>\n    <tr>\n      <th>4</th>\n      <td>1990-11-15</td>\n      <td>1410.599976</td>\n      <td>1416.699951</td>\n      <td>1405.099976</td>\n      <td>1405.699951</td>\n      <td>1405.699951</td>\n      <td>0</td>\n    </tr>\n    <tr>\n      <th>5</th>\n      <td>1990-11-16</td>\n      <td>1405.699951</td>\n      <td>1407.400024</td>\n      <td>1389.400024</td>\n      <td>1395.199951</td>\n      <td>1395.199951</td>\n      <td>0</td>\n    </tr>\n    <tr>\n      <th>6</th>\n      <td>1990-11-19</td>\n      <td>1395.599976</td>\n      <td>1417.900024</td>\n      <td>1395.599976</td>\n      <td>1416.000000</td>\n      <td>1416.000000</td>\n      <td>0</td>\n    </tr>\n    <tr>\n      <th>7</th>\n      <td>1990-11-20</td>\n      <td>1414.800049</td>\n      <td>1415.000000</td>\n      <td>1404.699951</td>\n      <td>1405.800049</td>\n      <td>1405.800049</td>\n      <td>0</td>\n    </tr>\n    <tr>\n      <th>8</th>\n      <td>1990-11-21</td>\n      <td>1405.599976</td>\n      <td>1405.599976</td>\n      <td>1396.699951</td>\n      <td>1398.400024</td>\n      <td>1398.400024</td>\n      <td>0</td>\n    </tr>\n    <tr>\n      <th>9</th>\n      <td>1990-11-22</td>\n      <td>1400.000000</td>\n      <td>1401.400024</td>\n      <td>1384.500000</td>\n      <td>1388.800049</td>\n      <td>1388.800049</td>\n      <td>0</td>\n    </tr>\n  </tbody>\n</table>\n</div>"
     },
     "execution_count": 377,
     "metadata": {},
     "output_type": "execute_result"
    }
   ],
   "source": [
    "smi.head(10)"
   ],
   "metadata": {
    "collapsed": false,
    "pycharm": {
     "name": "#%%\n"
    }
   }
  },
  {
   "cell_type": "markdown",
   "source": [
    "From the Dataset Description we can see, that there seem to be a few missing values in the volume column. This must be kept in mind when moving forward."
   ],
   "metadata": {
    "collapsed": false
   }
  },
  {
   "cell_type": "markdown",
   "source": [
    "Adding the daily return as a column in the dataset. We derive it using the closing price.\n",
    "$r_{t} = \\frac{p_{t} - p_{t-1}}{p_{t-1}}$\n"
   ],
   "metadata": {
    "collapsed": false
   }
  },
  {
   "cell_type": "code",
   "execution_count": 378,
   "outputs": [],
   "source": [
    "for index_smi in range(1,len(smi)):\n",
    "    p_t = smi.loc[index_smi, 'Close']\n",
    "    p_t_minus_1 = smi.loc[index_smi-1, 'Close']\n",
    "    daily_return = (p_t - p_t_minus_1)/p_t_minus_1\n",
    "    smi.loc[index_smi, 'Daily Return'] = daily_return"
   ],
   "metadata": {
    "collapsed": false,
    "pycharm": {
     "name": "#%%\n"
    }
   }
  },
  {
   "cell_type": "code",
   "execution_count": 379,
   "outputs": [],
   "source": [
    "for index_smi in range(2,len(smi)):\n",
    "    smi.loc[index_smi, 'Yesterday Daily Return'] = smi.loc[index_smi-1, 'Daily Return']"
   ],
   "metadata": {
    "collapsed": false,
    "pycharm": {
     "name": "#%%\n"
    }
   }
  },
  {
   "cell_type": "markdown",
   "source": [
    "Building the ground truth labels"
   ],
   "metadata": {
    "collapsed": false
   }
  },
  {
   "cell_type": "code",
   "execution_count": 380,
   "outputs": [],
   "source": [
    "def build_ground_truth(row):\n",
    "    if row['Daily Return'] > 0:\n",
    "        return 1\n",
    "    return 0\n",
    "\n",
    "smi['Is Going Up'] = smi.apply (lambda row: build_ground_truth(row), axis=1)"
   ],
   "metadata": {
    "collapsed": false,
    "pycharm": {
     "name": "#%%\n"
    }
   }
  },
  {
   "cell_type": "markdown",
   "source": [
    "Build the same model as above but don't do arbitrary test / validation splits."
   ],
   "metadata": {
    "collapsed": false
   }
  },
  {
   "cell_type": "code",
   "execution_count": 381,
   "outputs": [
    {
     "name": "stdout",
     "output_type": "stream",
     "text": [
      "Accuracy for 1R based on yesterday daily return: 0.4\n"
     ]
    }
   ],
   "source": [
    "x = smi[['Yesterday Daily Return']]\n",
    "le = preprocessing.LabelEncoder()\n",
    "y = smi['Is Going Up']\n",
    "y = le.fit_transform(y)\n",
    "\n",
    "x_train = x[2:-100]\n",
    "y_train = y[2:-100]\n",
    "x_test = x[-100:]\n",
    "y_test = y[-100:]\n",
    "\n",
    "one_r_2 = OneRClassifier()\n",
    "one_r_2.fit(x_train.to_numpy(), y_train)\n",
    "y_pred = one_r_2.predict(x_test.to_numpy())\n",
    "accuracy = accuracy_score(y_test, y_pred)\n",
    "print(f'Accuracy for 1R based on yesterday daily return: {accuracy}')\n"
   ],
   "metadata": {
    "collapsed": false,
    "pycharm": {
     "name": "#%%\n"
    }
   }
  },
  {
   "cell_type": "markdown",
   "source": [
    "Now we have a weird problem here. My OneRClassifier predicts all the time 0 (going down). Althoug it has been trained on data not only including going down.\n",
    "I was unable to solve this problem. So here is a naive approach predicting a change to continue once it started. (Taking yesterdays trend and predicting it to continue)"
   ],
   "metadata": {
    "collapsed": false
   }
  },
  {
   "cell_type": "code",
   "execution_count": 382,
   "outputs": [
    {
     "name": "stdout",
     "output_type": "stream",
     "text": [
      "Accuracy 0.5054193548387097\n"
     ]
    }
   ],
   "source": [
    "def predict_same_as_yesterday(row):\n",
    "    if row['Yesterday Daily Return']>0:\n",
    "        return 1\n",
    "    return 0\n",
    "\n",
    "def is_correct_prediction_smi(row, prediction_name):\n",
    "    if row['Is Going Up'] == row[prediction_name]:\n",
    "        return True\n",
    "    else:\n",
    "        return False\n",
    "\n",
    "smi['Prediction'] = smi.apply (lambda row: predict_same_as_yesterday(row), axis=1)\n",
    "correct_predictions = smi.apply(lambda row: is_correct_prediction_smi(row, 'Prediction'), axis=1)\n",
    "accuracy =  correct_predictions.value_counts()[True] / correct_predictions.size\n",
    "print(f\"Accuracy {accuracy}\")"
   ],
   "metadata": {
    "collapsed": false,
    "pycharm": {
     "name": "#%%\n"
    }
   }
  },
  {
   "cell_type": "markdown",
   "source": [
    "And Thats a pretty bad accuracy. Almost the same as a coin toss..."
   ],
   "metadata": {
    "collapsed": false
   }
  }
 ],
 "metadata": {
  "kernelspec": {
   "display_name": "Python 3",
   "language": "python",
   "name": "python3"
  },
  "language_info": {
   "codemirror_mode": {
    "name": "ipython",
    "version": 2
   },
   "file_extension": ".py",
   "mimetype": "text/x-python",
   "name": "python",
   "nbconvert_exporter": "python",
   "pygments_lexer": "ipython2",
   "version": "2.7.6"
  }
 },
 "nbformat": 4,
 "nbformat_minor": 0
}