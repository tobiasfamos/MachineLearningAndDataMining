{
 "cells": [
  {
   "cell_type": "markdown",
   "source": [
    "# Exercise 1\n",
    "Author: Tobias Famos\n",
    "## Loading the Data"
   ],
   "metadata": {
    "collapsed": false
   }
  },
  {
   "cell_type": "code",
   "execution_count": 200,
   "metadata": {
    "collapsed": true
   },
   "outputs": [
    {
     "data": {
      "text/plain": "   Survived  Pclass                                               Name  \\\n0         0       3                             Mr. Owen Harris Braund   \n1         1       1  Mrs. John Bradley (Florence Briggs Thayer) Cum...   \n2         1       3                              Miss. Laina Heikkinen   \n3         1       1        Mrs. Jacques Heath (Lily May Peel) Futrelle   \n4         0       3                            Mr. William Henry Allen   \n5         0       3                                    Mr. James Moran   \n6         0       1                             Mr. Timothy J McCarthy   \n7         0       3                      Master. Gosta Leonard Palsson   \n8         1       3   Mrs. Oscar W (Elisabeth Vilhelmina Berg) Johnson   \n9         1       2                 Mrs. Nicholas (Adele Achem) Nasser   \n\n      Sex   Age  Siblings/Spouses Aboard  Parents/Children Aboard     Fare  \n0    male  22.0                        1                        0   7.2500  \n1  female  38.0                        1                        0  71.2833  \n2  female  26.0                        0                        0   7.9250  \n3  female  35.0                        1                        0  53.1000  \n4    male  35.0                        0                        0   8.0500  \n5    male  27.0                        0                        0   8.4583  \n6    male  54.0                        0                        0  51.8625  \n7    male   2.0                        3                        1  21.0750  \n8  female  27.0                        0                        2  11.1333  \n9  female  14.0                        1                        0  30.0708  ",
      "text/html": "<div>\n<style scoped>\n    .dataframe tbody tr th:only-of-type {\n        vertical-align: middle;\n    }\n\n    .dataframe tbody tr th {\n        vertical-align: top;\n    }\n\n    .dataframe thead th {\n        text-align: right;\n    }\n</style>\n<table border=\"1\" class=\"dataframe\">\n  <thead>\n    <tr style=\"text-align: right;\">\n      <th></th>\n      <th>Survived</th>\n      <th>Pclass</th>\n      <th>Name</th>\n      <th>Sex</th>\n      <th>Age</th>\n      <th>Siblings/Spouses Aboard</th>\n      <th>Parents/Children Aboard</th>\n      <th>Fare</th>\n    </tr>\n  </thead>\n  <tbody>\n    <tr>\n      <th>0</th>\n      <td>0</td>\n      <td>3</td>\n      <td>Mr. Owen Harris Braund</td>\n      <td>male</td>\n      <td>22.0</td>\n      <td>1</td>\n      <td>0</td>\n      <td>7.2500</td>\n    </tr>\n    <tr>\n      <th>1</th>\n      <td>1</td>\n      <td>1</td>\n      <td>Mrs. John Bradley (Florence Briggs Thayer) Cum...</td>\n      <td>female</td>\n      <td>38.0</td>\n      <td>1</td>\n      <td>0</td>\n      <td>71.2833</td>\n    </tr>\n    <tr>\n      <th>2</th>\n      <td>1</td>\n      <td>3</td>\n      <td>Miss. Laina Heikkinen</td>\n      <td>female</td>\n      <td>26.0</td>\n      <td>0</td>\n      <td>0</td>\n      <td>7.9250</td>\n    </tr>\n    <tr>\n      <th>3</th>\n      <td>1</td>\n      <td>1</td>\n      <td>Mrs. Jacques Heath (Lily May Peel) Futrelle</td>\n      <td>female</td>\n      <td>35.0</td>\n      <td>1</td>\n      <td>0</td>\n      <td>53.1000</td>\n    </tr>\n    <tr>\n      <th>4</th>\n      <td>0</td>\n      <td>3</td>\n      <td>Mr. William Henry Allen</td>\n      <td>male</td>\n      <td>35.0</td>\n      <td>0</td>\n      <td>0</td>\n      <td>8.0500</td>\n    </tr>\n    <tr>\n      <th>5</th>\n      <td>0</td>\n      <td>3</td>\n      <td>Mr. James Moran</td>\n      <td>male</td>\n      <td>27.0</td>\n      <td>0</td>\n      <td>0</td>\n      <td>8.4583</td>\n    </tr>\n    <tr>\n      <th>6</th>\n      <td>0</td>\n      <td>1</td>\n      <td>Mr. Timothy J McCarthy</td>\n      <td>male</td>\n      <td>54.0</td>\n      <td>0</td>\n      <td>0</td>\n      <td>51.8625</td>\n    </tr>\n    <tr>\n      <th>7</th>\n      <td>0</td>\n      <td>3</td>\n      <td>Master. Gosta Leonard Palsson</td>\n      <td>male</td>\n      <td>2.0</td>\n      <td>3</td>\n      <td>1</td>\n      <td>21.0750</td>\n    </tr>\n    <tr>\n      <th>8</th>\n      <td>1</td>\n      <td>3</td>\n      <td>Mrs. Oscar W (Elisabeth Vilhelmina Berg) Johnson</td>\n      <td>female</td>\n      <td>27.0</td>\n      <td>0</td>\n      <td>2</td>\n      <td>11.1333</td>\n    </tr>\n    <tr>\n      <th>9</th>\n      <td>1</td>\n      <td>2</td>\n      <td>Mrs. Nicholas (Adele Achem) Nasser</td>\n      <td>female</td>\n      <td>14.0</td>\n      <td>1</td>\n      <td>0</td>\n      <td>30.0708</td>\n    </tr>\n  </tbody>\n</table>\n</div>"
     },
     "execution_count": 200,
     "metadata": {},
     "output_type": "execute_result"
    }
   ],
   "source": [
    "import pandas\n",
    "df = pandas.read_csv(\"Data/titanic.csv\")\n",
    "df.head(10)"
   ]
  },
  {
   "cell_type": "markdown",
   "source": [
    "# Task 1\n",
    "First lets define a function to evaluate prediction rules. Prediction rules will be give and a lambda function doing it's decision based only on a single row."
   ],
   "metadata": {
    "collapsed": false
   }
  },
  {
   "cell_type": "code",
   "execution_count": 201,
   "outputs": [],
   "source": [
    "def is_correct_prediction(row, prediction_name):\n",
    "    if row['Survived'] == row[prediction_name]:\n",
    "        return True\n",
    "    else:\n",
    "        return False\n",
    "\n",
    "def predict_and_evaluate(func):\n",
    "    df['prediction'] = df.apply (lambda row: func(row), axis=1)\n",
    "    correct_predictions = df.apply(lambda row: is_correct_prediction(row, 'prediction'), axis=1)\n",
    "    accuracy =  correct_predictions.value_counts()[True] / correct_predictions.size\n",
    "    print(f\"Accuracy for {func.__name__}: {accuracy}\")\n",
    "    return accuracy\n"
   ],
   "metadata": {
    "collapsed": false,
    "pycharm": {
     "name": "#%%\n"
    }
   }
  },
  {
   "cell_type": "markdown",
   "source": [
    "## Task 1.a) What is the best default rule for this dataset?\n",
    "There are two possible rules without any prior knowledge of the person:\n",
    "- survived = yes\n",
    "- survived = no;\n",
    "Let's count the values and see which brings the higher accuracy."
   ],
   "metadata": {
    "collapsed": false
   }
  },
  {
   "cell_type": "code",
   "execution_count": 202,
   "outputs": [
    {
     "name": "stdout",
     "output_type": "stream",
     "text": [
      "Accuracy for label_all_died: 0.6144306651634723\n",
      "Accuracy for label_all_survived: 0.3855693348365276\n"
     ]
    },
    {
     "data": {
      "text/plain": "0.3855693348365276"
     },
     "execution_count": 202,
     "metadata": {},
     "output_type": "execute_result"
    }
   ],
   "source": [
    "def label_all_died(row):\n",
    "    return 0\n",
    "\n",
    "def label_all_survived(row):\n",
    "    return 1\n",
    "\n",
    "predict_and_evaluate(label_all_died)\n",
    "predict_and_evaluate(label_all_survived)\n",
    "\n"
   ],
   "metadata": {
    "collapsed": false,
    "pycharm": {
     "name": "#%%\n"
    }
   }
  },
  {
   "cell_type": "markdown",
   "source": [
    "As one can see from the output above, the best accuracy is when we use the default rule survived = 0."
   ],
   "metadata": {
    "collapsed": false,
    "pycharm": {
     "name": "#%% md\n"
    }
   }
  },
  {
   "cell_type": "markdown",
   "source": [
    "## Task 1.b)\n",
    "What is the best 1R for this dataset?\n",
    "Lets first import our OneRClassifier"
   ],
   "metadata": {
    "collapsed": false
   }
  },
  {
   "cell_type": "code",
   "execution_count": 203,
   "outputs": [],
   "source": [
    "from sklearn.model_selection import train_test_split\n",
    "from mlxtend.evaluate import accuracy_score\n",
    "from mlxtend.classifier import OneRClassifier\n"
   ],
   "metadata": {
    "collapsed": false,
    "pycharm": {
     "name": "#%%\n"
    }
   }
  },
  {
   "cell_type": "markdown",
   "source": [
    "Define a function to evaluate a OneR based on one attribute"
   ],
   "metadata": {
    "collapsed": false
   }
  },
  {
   "cell_type": "code",
   "execution_count": 204,
   "outputs": [],
   "source": [
    "def create_and_evaluate_1R_for_attribute(attribute):\n",
    "    x_d = df[[attribute]]\n",
    "    y = df[\"Survived\"]\n",
    "    x_d_train, x_d_test, y_train, y_test = train_test_split(x_d, y, test_size=0.2)\n",
    "    one_r = OneRClassifier()\n",
    "    one_r.fit(x_d_train.to_numpy(), y_train)\n",
    "    y_pred = one_r.predict(x_d_test.to_numpy())\n",
    "    accuracy = accuracy_score(y_test, y_pred)\n",
    "    print(f'Accuracy for 1R based on attribute {attribute}: {accuracy}')"
   ],
   "metadata": {
    "collapsed": false,
    "pycharm": {
     "name": "#%%\n"
    }
   }
  },
  {
   "cell_type": "markdown",
   "source": [
    "Evaluate all the possible Attributes"
   ],
   "metadata": {
    "collapsed": false
   }
  },
  {
   "cell_type": "code",
   "execution_count": 205,
   "outputs": [
    {
     "name": "stdout",
     "output_type": "stream",
     "text": [
      "Accuracy for 1R based on attribute Pclass: 0.702247191011236\n",
      "Accuracy for 1R based on attribute Sex: 0.7696629213483146\n",
      "Accuracy for 1R based on attribute Age: 0.6067415730337079\n",
      "Accuracy for 1R based on attribute Siblings/Spouses Aboard: 0.6179775280898876\n",
      "Accuracy for 1R based on attribute Parents/Children Aboard: 0.5955056179775281\n",
      "Accuracy for 1R based on attribute Fare: 0.6910112359550562\n"
     ]
    }
   ],
   "source": [
    "create_and_evaluate_1R_for_attribute('Pclass')\n",
    "create_and_evaluate_1R_for_attribute('Sex')\n",
    "create_and_evaluate_1R_for_attribute('Age')\n",
    "create_and_evaluate_1R_for_attribute('Siblings/Spouses Aboard')\n",
    "create_and_evaluate_1R_for_attribute('Parents/Children Aboard')\n",
    "create_and_evaluate_1R_for_attribute('Fare')\n"
   ],
   "metadata": {
    "collapsed": false,
    "pycharm": {
     "name": "#%%\n"
    }
   }
  },
  {
   "cell_type": "markdown",
   "source": [
    "So the best 1R Rule for this datasets seems to be based on sex. Let's write the predictor just for fun and see the error throughout the whole dataset."
   ],
   "metadata": {
    "collapsed": false
   }
  },
  {
   "cell_type": "code",
   "execution_count": 206,
   "outputs": [
    {
     "name": "stdout",
     "output_type": "stream",
     "text": [
      "Accuracy for one_rule_sex: 0.7857948139797069\n"
     ]
    },
    {
     "data": {
      "text/plain": "0.7857948139797069"
     },
     "execution_count": 206,
     "metadata": {},
     "output_type": "execute_result"
    }
   ],
   "source": [
    "def one_rule_sex(row):\n",
    "    if row['Sex'] == 'female':\n",
    "        return 1\n",
    "    return 0\n",
    "predict_and_evaluate(one_rule_sex)"
   ],
   "metadata": {
    "collapsed": false,
    "pycharm": {
     "name": "#%%\n"
    }
   }
  },
  {
   "cell_type": "markdown",
   "source": [
    "## Task 1.c) Can you produce a second rule based on a single attribute with a good effectiveness?\n",
    "\n",
    "Sure, we will just take the second highest ranking rule above."
   ],
   "metadata": {
    "collapsed": false
   }
  },
  {
   "cell_type": "code",
   "execution_count": 207,
   "outputs": [
    {
     "name": "stdout",
     "output_type": "stream",
     "text": [
      "Accuracy for 1R based on attribute Pclass: 0.6797752808988764\n",
      "Accuracy for 1R based on attribute Sex: 0.7752808988764045\n",
      "Accuracy for 1R based on attribute Age: 0.5898876404494382\n",
      "Accuracy for 1R based on attribute Siblings/Spouses Aboard: 0.6067415730337079\n",
      "Accuracy for 1R based on attribute Parents/Children Aboard: 0.6292134831460674\n",
      "Accuracy for 1R based on attribute Fare: 0.6685393258426966\n"
     ]
    }
   ],
   "source": [
    "create_and_evaluate_1R_for_attribute('Pclass')\n",
    "create_and_evaluate_1R_for_attribute('Sex')\n",
    "create_and_evaluate_1R_for_attribute('Age')\n",
    "create_and_evaluate_1R_for_attribute('Siblings/Spouses Aboard')\n",
    "create_and_evaluate_1R_for_attribute('Parents/Children Aboard')\n",
    "create_and_evaluate_1R_for_attribute('Fare')"
   ],
   "metadata": {
    "collapsed": false,
    "pycharm": {
     "name": "#%%\n"
    }
   }
  },
  {
   "cell_type": "markdown",
   "source": [
    "\n",
    "Depending on the Test / Train split we run here, this is either the second best attribute to pick is either Fare or Class. As the Fare is just dependent on the class (First class being more expensive than third, we will just pick the class as the second rule).\n",
    "Once again, I write the rule function and evaluate it over the whole dataset."
   ],
   "metadata": {
    "collapsed": false
   }
  },
  {
   "cell_type": "code",
   "execution_count": 208,
   "outputs": [
    {
     "name": "stdout",
     "output_type": "stream",
     "text": [
      "Accuracy for one_rule_class: 0.677564825253664\n"
     ]
    },
    {
     "data": {
      "text/plain": "0.677564825253664"
     },
     "execution_count": 208,
     "metadata": {},
     "output_type": "execute_result"
    }
   ],
   "source": [
    "def one_rule_class(row):\n",
    "    if row['Pclass'] == 1:\n",
    "        return 1\n",
    "    return 0\n",
    "\n",
    "predict_and_evaluate(one_rule_class)"
   ],
   "metadata": {
    "collapsed": false,
    "pycharm": {
     "name": "#%%\n"
    }
   }
  }
 ],
 "metadata": {
  "kernelspec": {
   "display_name": "Python 3",
   "language": "python",
   "name": "python3"
  },
  "language_info": {
   "codemirror_mode": {
    "name": "ipython",
    "version": 2
   },
   "file_extension": ".py",
   "mimetype": "text/x-python",
   "name": "python",
   "nbconvert_exporter": "python",
   "pygments_lexer": "ipython2",
   "version": "2.7.6"
  }
 },
 "nbformat": 4,
 "nbformat_minor": 0
}