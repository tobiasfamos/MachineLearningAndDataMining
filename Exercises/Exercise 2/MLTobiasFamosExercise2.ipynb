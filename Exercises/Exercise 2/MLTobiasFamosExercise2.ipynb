{
 "cells": [
  {
   "cell_type": "markdown",
   "source": [
    "# Exercise 2\n",
    "Author: Tobias Famos\n",
    "For the course Machine Learning and Data Mining"
   ],
   "metadata": {
    "collapsed": false
   }
  },
  {
   "cell_type": "markdown",
   "source": [
    "## Import statements"
   ],
   "metadata": {
    "collapsed": false
   }
  },
  {
   "cell_type": "code",
   "execution_count": 1,
   "outputs": [],
   "source": [
    "import pandas\n",
    "import matplotlib.pyplot as plot\n",
    "from sklearn.naive_bayes import  GaussianNB\n",
    "from sklearn import preprocessing\n",
    "from mlxtend.evaluate import accuracy_score\n",
    "from sklearn.model_selection import train_test_split\n",
    "import os\n"
   ],
   "metadata": {
    "collapsed": false,
    "pycharm": {
     "name": "#%%\n"
    }
   }
  },
  {
   "cell_type": "markdown",
   "source": [
    "## Task 1: Titanic\n",
    "## Preprocessing\n",
    "Fist lets load the Data"
   ],
   "metadata": {
    "collapsed": false
   }
  },
  {
   "cell_type": "code",
   "execution_count": 2,
   "metadata": {
    "collapsed": true
   },
   "outputs": [
    {
     "data": {
      "text/plain": "   Survived  Pclass                                               Name  \\\n0         0       3                             Mr. Owen Harris Braund   \n1         1       1  Mrs. John Bradley (Florence Briggs Thayer) Cum...   \n2         1       3                              Miss. Laina Heikkinen   \n3         1       1        Mrs. Jacques Heath (Lily May Peel) Futrelle   \n4         0       3                            Mr. William Henry Allen   \n5         0       3                                    Mr. James Moran   \n6         0       1                             Mr. Timothy J McCarthy   \n7         0       3                      Master. Gosta Leonard Palsson   \n8         1       3   Mrs. Oscar W (Elisabeth Vilhelmina Berg) Johnson   \n9         1       2                 Mrs. Nicholas (Adele Achem) Nasser   \n\n      Sex   Age  Siblings/Spouses Aboard  Parents/Children Aboard     Fare  \n0    male  22.0                        1                        0   7.2500  \n1  female  38.0                        1                        0  71.2833  \n2  female  26.0                        0                        0   7.9250  \n3  female  35.0                        1                        0  53.1000  \n4    male  35.0                        0                        0   8.0500  \n5    male  27.0                        0                        0   8.4583  \n6    male  54.0                        0                        0  51.8625  \n7    male   2.0                        3                        1  21.0750  \n8  female  27.0                        0                        2  11.1333  \n9  female  14.0                        1                        0  30.0708  ",
      "text/html": "<div>\n<style scoped>\n    .dataframe tbody tr th:only-of-type {\n        vertical-align: middle;\n    }\n\n    .dataframe tbody tr th {\n        vertical-align: top;\n    }\n\n    .dataframe thead th {\n        text-align: right;\n    }\n</style>\n<table border=\"1\" class=\"dataframe\">\n  <thead>\n    <tr style=\"text-align: right;\">\n      <th></th>\n      <th>Survived</th>\n      <th>Pclass</th>\n      <th>Name</th>\n      <th>Sex</th>\n      <th>Age</th>\n      <th>Siblings/Spouses Aboard</th>\n      <th>Parents/Children Aboard</th>\n      <th>Fare</th>\n    </tr>\n  </thead>\n  <tbody>\n    <tr>\n      <th>0</th>\n      <td>0</td>\n      <td>3</td>\n      <td>Mr. Owen Harris Braund</td>\n      <td>male</td>\n      <td>22.0</td>\n      <td>1</td>\n      <td>0</td>\n      <td>7.2500</td>\n    </tr>\n    <tr>\n      <th>1</th>\n      <td>1</td>\n      <td>1</td>\n      <td>Mrs. John Bradley (Florence Briggs Thayer) Cum...</td>\n      <td>female</td>\n      <td>38.0</td>\n      <td>1</td>\n      <td>0</td>\n      <td>71.2833</td>\n    </tr>\n    <tr>\n      <th>2</th>\n      <td>1</td>\n      <td>3</td>\n      <td>Miss. Laina Heikkinen</td>\n      <td>female</td>\n      <td>26.0</td>\n      <td>0</td>\n      <td>0</td>\n      <td>7.9250</td>\n    </tr>\n    <tr>\n      <th>3</th>\n      <td>1</td>\n      <td>1</td>\n      <td>Mrs. Jacques Heath (Lily May Peel) Futrelle</td>\n      <td>female</td>\n      <td>35.0</td>\n      <td>1</td>\n      <td>0</td>\n      <td>53.1000</td>\n    </tr>\n    <tr>\n      <th>4</th>\n      <td>0</td>\n      <td>3</td>\n      <td>Mr. William Henry Allen</td>\n      <td>male</td>\n      <td>35.0</td>\n      <td>0</td>\n      <td>0</td>\n      <td>8.0500</td>\n    </tr>\n    <tr>\n      <th>5</th>\n      <td>0</td>\n      <td>3</td>\n      <td>Mr. James Moran</td>\n      <td>male</td>\n      <td>27.0</td>\n      <td>0</td>\n      <td>0</td>\n      <td>8.4583</td>\n    </tr>\n    <tr>\n      <th>6</th>\n      <td>0</td>\n      <td>1</td>\n      <td>Mr. Timothy J McCarthy</td>\n      <td>male</td>\n      <td>54.0</td>\n      <td>0</td>\n      <td>0</td>\n      <td>51.8625</td>\n    </tr>\n    <tr>\n      <th>7</th>\n      <td>0</td>\n      <td>3</td>\n      <td>Master. Gosta Leonard Palsson</td>\n      <td>male</td>\n      <td>2.0</td>\n      <td>3</td>\n      <td>1</td>\n      <td>21.0750</td>\n    </tr>\n    <tr>\n      <th>8</th>\n      <td>1</td>\n      <td>3</td>\n      <td>Mrs. Oscar W (Elisabeth Vilhelmina Berg) Johnson</td>\n      <td>female</td>\n      <td>27.0</td>\n      <td>0</td>\n      <td>2</td>\n      <td>11.1333</td>\n    </tr>\n    <tr>\n      <th>9</th>\n      <td>1</td>\n      <td>2</td>\n      <td>Mrs. Nicholas (Adele Achem) Nasser</td>\n      <td>female</td>\n      <td>14.0</td>\n      <td>1</td>\n      <td>0</td>\n      <td>30.0708</td>\n    </tr>\n  </tbody>\n</table>\n</div>"
     },
     "execution_count": 2,
     "metadata": {},
     "output_type": "execute_result"
    }
   ],
   "source": [
    "titanic = pandas.read_csv(\"Data/titanic.csv\")\n",
    "titanic.name = \"Titanic\"\n",
    "titanic.head(10)"
   ]
  },
  {
   "cell_type": "markdown",
   "source": [
    "Now, we need to create labels from the binary attributes (Sex and Survived)"
   ],
   "metadata": {
    "collapsed": false
   }
  },
  {
   "cell_type": "code",
   "execution_count": 3,
   "outputs": [],
   "source": [
    "le = preprocessing.LabelEncoder()\n",
    "titanic[\"Sex\"] = le.fit_transform(titanic[\"Sex\"])\n",
    "titanic[\"Survived\"] = le.fit_transform(titanic[\"Survived\"])\n",
    "titanic[\"Name\"] = le.fit_transform(titanic[\"Name\"])"
   ],
   "metadata": {
    "collapsed": false,
    "pycharm": {
     "name": "#%%\n"
    }
   }
  },
  {
   "cell_type": "markdown",
   "source": [
    "## Subtask a)\n",
    "As we can see from the code lines below, the tho most siginificant correlations are Sex and PClass (to have them sorted we aI applied the Absolute values)"
   ],
   "metadata": {
    "collapsed": false
   }
  },
  {
   "cell_type": "code",
   "execution_count": 4,
   "outputs": [],
   "source": [
    "def get_correlation(dataframe, attribute_name):\n",
    "    correlation = dataframe.corr()[attribute_name]\n",
    "    correlation = correlation.apply(lambda entry: abs(entry))\n",
    "    return correlation\n",
    "\n",
    "def print_correlation(dataframe, attribute_name):\n",
    "    correlation = get_correlation(dataframe, attribute_name)\n",
    "    try:\n",
    "        print(f\"Correlation of {dataframe.name} on {attribute_name}\")\n",
    "    except:\n",
    "        print(f\"Correlation on {attribute_name}\")\n",
    "    print(correlation.sort_values(ascending=False))\n",
    "    return correlation\n",
    "\n",
    "def get_highest_correlated_parameters(dataframe, attribute_name):\n",
    "    correlation = get_correlation(dataframe, attribute_name)\n",
    "    correlation.pop(correlation.idxmax())\n",
    "    best = correlation.idxmax()\n",
    "    correlation.pop(best)\n",
    "    sec_best = correlation.idxmax()\n",
    "    return [best, sec_best]"
   ],
   "metadata": {
    "collapsed": false,
    "pycharm": {
     "name": "#%%\n"
    }
   }
  },
  {
   "cell_type": "code",
   "execution_count": 5,
   "outputs": [
    {
     "name": "stdout",
     "output_type": "stream",
     "text": [
      "Correlation of Titanic on Survived\n",
      "Survived                   1.000000\n",
      "Sex                        0.542152\n",
      "Pclass                     0.336528\n",
      "Fare                       0.256179\n",
      "Name                       0.103486\n",
      "Parents/Children Aboard    0.080097\n",
      "Age                        0.059665\n",
      "Siblings/Spouses Aboard    0.037082\n",
      "Name: Survived, dtype: float64\n"
     ]
    }
   ],
   "source": [
    "corr = print_correlation(titanic, \"Survived\")\n",
    "highest_correlated_parameters = get_highest_correlated_parameters(titanic, \"Survived\")\n"
   ],
   "metadata": {
    "collapsed": false,
    "pycharm": {
     "name": "#%%\n"
    }
   }
  },
  {
   "cell_type": "markdown",
   "source": [
    "## Subtask b)\n",
    "Define a training and evaluation function based on a 75 / 25 split using naive Bayes."
   ],
   "metadata": {
    "collapsed": false
   }
  },
  {
   "cell_type": "code",
   "execution_count": 6,
   "outputs": [],
   "source": [
    "def split_function_random(attributes, target_values):\n",
    "    attributes_train, attributes_test, target_value_train, target_value_test = train_test_split(attributes, target_values, test_size=0.25, random_state=12)\n",
    "    return attributes_train, attributes_test, target_value_train, target_value_test\n",
    "\n",
    "\n",
    "def predict_and_evaluate_bayes(attributes, target_value, split_function):\n",
    "    naive_bayes = GaussianNB()\n",
    "\n",
    "    attributes_train, attributes_test, target_value_train, target_value_test = split_function(attributes, target_value);\n",
    "\n",
    "    naive_bayes.fit(attributes_train, target_value_train)\n",
    "    test_predictions = naive_bayes.predict(attributes_test)\n",
    "    accuracy = accuracy_score(target_value_test, test_predictions)\n",
    "    print(f'Accuracy: {round(accuracy,4)} for Naive Bayes based on {attributes.keys()}' )\n",
    "    return accuracy"
   ],
   "metadata": {
    "collapsed": false,
    "pycharm": {
     "name": "#%%\n"
    }
   }
  },
  {
   "cell_type": "markdown",
   "source": [
    "Select the two highest correlated predictors. and the targe value"
   ],
   "metadata": {
    "collapsed": false
   }
  },
  {
   "cell_type": "code",
   "execution_count": 7,
   "outputs": [],
   "source": [
    "titanic_correlated_predictors = titanic[highest_correlated_parameters]\n",
    "titanic_target_value = titanic[\"Survived\"]"
   ],
   "metadata": {
    "collapsed": false,
    "pycharm": {
     "name": "#%%\n"
    }
   }
  },
  {
   "cell_type": "markdown",
   "source": [
    "Now lets train and evaluate the model based on Sex and class:"
   ],
   "metadata": {
    "collapsed": false
   }
  },
  {
   "cell_type": "code",
   "execution_count": 8,
   "outputs": [
    {
     "name": "stdout",
     "output_type": "stream",
     "text": [
      "Accuracy: 0.8243 for Naive Bayes based on Index(['Sex', 'Pclass'], dtype='object')\n"
     ]
    }
   ],
   "source": [
    "accuracy = predict_and_evaluate_bayes(titanic_correlated_predictors, titanic_target_value, split_function_random)"
   ],
   "metadata": {
    "collapsed": false,
    "pycharm": {
     "name": "#%%\n"
    }
   }
  },
  {
   "cell_type": "markdown",
   "source": [
    "## Subtask c)\n",
    "Now lets add all the predictors and compare."
   ],
   "metadata": {
    "collapsed": false
   }
  },
  {
   "cell_type": "markdown",
   "source": [],
   "metadata": {
    "collapsed": false
   }
  },
  {
   "cell_type": "code",
   "execution_count": 9,
   "outputs": [
    {
     "name": "stdout",
     "output_type": "stream",
     "text": [
      "Accuracy: 0.8243 for Naive Bayes based on Index(['Sex'], dtype='object')\n",
      "Accuracy: 0.8243 for Naive Bayes based on Index(['Sex', 'Pclass'], dtype='object')\n",
      "Accuracy: 0.7387 for Naive Bayes based on Index(['Sex', 'Pclass', 'Fare'], dtype='object')\n",
      "Accuracy: 0.7883 for Naive Bayes based on Index(['Sex', 'Pclass', 'Fare', 'Name'], dtype='object')\n",
      "Accuracy: 0.8018 for Naive Bayes based on Index(['Sex', 'Pclass', 'Fare', 'Name', 'Parents/Children Aboard'], dtype='object')\n",
      "Accuracy: 0.8063 for Naive Bayes based on Index(['Sex', 'Pclass', 'Fare', 'Name', 'Parents/Children Aboard', 'Age'], dtype='object')\n",
      "Accuracy: 0.8018 for Naive Bayes based on Index(['Pclass', 'Name', 'Sex', 'Age', 'Siblings/Spouses Aboard',\n",
      "       'Parents/Children Aboard', 'Fare'],\n",
      "      dtype='object')\n"
     ]
    }
   ],
   "source": [
    "titanic_all_predictors =titanic.loc[:,titanic.columns != 'Survived']\n",
    "titanic_predictors = [titanic[[\"Sex\"]],\n",
    "    titanic[[\"Sex\",\"Pclass\"]],\n",
    "    titanic[[\"Sex\", \"Pclass\", \"Fare\"]],\n",
    "    titanic[[\"Sex\", \"Pclass\", \"Fare\",\"Name\"]],\n",
    "    titanic[[\"Sex\", \"Pclass\", \"Fare\",\"Name\", \"Parents/Children Aboard\"]],\n",
    "    titanic[[\"Sex\", \"Pclass\", \"Fare\",\"Name\", \"Parents/Children Aboard\",\"Age\"]],\n",
    "    titanic.loc[:,titanic.columns != 'Survived'],\n",
    "]\n",
    "\n",
    "accuracies = []\n",
    "labels = []\n",
    "for predictor in titanic_predictors:\n",
    "    accuracies.append(predict_and_evaluate_bayes(predictor, titanic_target_value, split_function_random))\n",
    "    labels.append(len(predictor.keys()))\n",
    "\n"
   ],
   "metadata": {
    "collapsed": false,
    "pycharm": {
     "name": "#%%\n"
    }
   }
  },
  {
   "cell_type": "code",
   "execution_count": 10,
   "outputs": [
    {
     "data": {
      "text/plain": "<Figure size 432x288 with 1 Axes>",
      "image/png": "[encoded data removed]"
     },
     "metadata": {
      "needs_background": "light"
     },
     "output_type": "display_data"
    }
   ],
   "source": [
    "plot.plot(labels, accuracies)\n",
    "plot.title(\"Accuracy of Naive Bayes prediction\")\n",
    "plot.xlabel(\"Number of predictors used\")\n",
    "plot.ylabel(\"Accuracy\")\n",
    "plot.show()"
   ],
   "metadata": {
    "collapsed": false,
    "pycharm": {
     "name": "#%%\n"
    }
   }
  },
  {
   "cell_type": "markdown",
   "source": [
    "Now we can interprete these results:\n",
    "Firstly, there seems to be no improvement by using two predictors Sex and Class instead of only Sex. This is constant over multiple seeds for the train / test split. Secondly, we can see that the accuracy drops and rises again. This is a good sign that we did overfit our data by using all the predictors availabale.\n",
    "Also, in my opinion, it is extremely useless to use a generated class over the names"
   ],
   "metadata": {
    "collapsed": false
   }
  },
  {
   "cell_type": "markdown",
   "source": [
    "# Task 2\n",
    "## Loading the data"
   ],
   "metadata": {
    "collapsed": false
   }
  },
  {
   "cell_type": "code",
   "execution_count": 11,
   "outputs": [
    {
     "data": {
      "text/plain": "         Date         Open         High          Low        Close  \\\n0  1990-11-09  1378.900024  1389.000000  1375.300049  1387.099976   \n1  1990-11-12  1388.099976  1408.099976  1388.099976  1407.500000   \n2  1990-11-13  1412.199951  1429.400024  1411.400024  1415.199951   \n3  1990-11-14  1413.599976  1413.599976  1402.099976  1410.300049   \n4  1990-11-15  1410.599976  1416.699951  1405.099976  1405.699951   \n\n     Adj Close  Volume  \n0  1387.099976       0  \n1  1407.500000       0  \n2  1415.199951       0  \n3  1410.300049       0  \n4  1405.699951       0  ",
      "text/html": "<div>\n<style scoped>\n    .dataframe tbody tr th:only-of-type {\n        vertical-align: middle;\n    }\n\n    .dataframe tbody tr th {\n        vertical-align: top;\n    }\n\n    .dataframe thead th {\n        text-align: right;\n    }\n</style>\n<table border=\"1\" class=\"dataframe\">\n  <thead>\n    <tr style=\"text-align: right;\">\n      <th></th>\n      <th>Date</th>\n      <th>Open</th>\n      <th>High</th>\n      <th>Low</th>\n      <th>Close</th>\n      <th>Adj Close</th>\n      <th>Volume</th>\n    </tr>\n  </thead>\n  <tbody>\n    <tr>\n      <th>0</th>\n      <td>1990-11-09</td>\n      <td>1378.900024</td>\n      <td>1389.000000</td>\n      <td>1375.300049</td>\n      <td>1387.099976</td>\n      <td>1387.099976</td>\n      <td>0</td>\n    </tr>\n    <tr>\n      <th>1</th>\n      <td>1990-11-12</td>\n      <td>1388.099976</td>\n      <td>1408.099976</td>\n      <td>1388.099976</td>\n      <td>1407.500000</td>\n      <td>1407.500000</td>\n      <td>0</td>\n    </tr>\n    <tr>\n      <th>2</th>\n      <td>1990-11-13</td>\n      <td>1412.199951</td>\n      <td>1429.400024</td>\n      <td>1411.400024</td>\n      <td>1415.199951</td>\n      <td>1415.199951</td>\n      <td>0</td>\n    </tr>\n    <tr>\n      <th>3</th>\n      <td>1990-11-14</td>\n      <td>1413.599976</td>\n      <td>1413.599976</td>\n      <td>1402.099976</td>\n      <td>1410.300049</td>\n      <td>1410.300049</td>\n      <td>0</td>\n    </tr>\n    <tr>\n      <th>4</th>\n      <td>1990-11-15</td>\n      <td>1410.599976</td>\n      <td>1416.699951</td>\n      <td>1405.099976</td>\n      <td>1405.699951</td>\n      <td>1405.699951</td>\n      <td>0</td>\n    </tr>\n  </tbody>\n</table>\n</div>"
     },
     "execution_count": 11,
     "metadata": {},
     "output_type": "execute_result"
    }
   ],
   "source": [
    "smi = pandas.read_csv(\"Data/SMI.csv\")\n",
    "smi.name = \"SMI\"\n",
    "smi.head(5)"
   ],
   "metadata": {
    "collapsed": false,
    "pycharm": {
     "name": "#%%\n"
    }
   }
  },
  {
   "cell_type": "markdown",
   "source": [
    "From the Dataset Description we can see, that there seem to be a few missing values in the volume column. This must be kept in mind when moving forward."
   ],
   "metadata": {
    "collapsed": false
   }
  },
  {
   "cell_type": "markdown",
   "source": [
    "Adding the daily return as a column in the dataset. We derive it using the closing price.\n",
    "$r_{t} = \\frac{p_{t} - p_{t-1}}{p_{t-1}}$\n"
   ],
   "metadata": {
    "collapsed": false
   }
  },
  {
   "cell_type": "code",
   "execution_count": 12,
   "outputs": [],
   "source": [
    "\n",
    "for index_smi in range(1,len(smi)):\n",
    "    p_t = smi.loc[index_smi, 'Close']\n",
    "    p_t_minus_1 = smi.loc[index_smi-1, 'Close']\n",
    "    daily_return = (p_t - p_t_minus_1)/p_t_minus_1\n",
    "    smi.loc[index_smi, 'Daily Return'] = daily_return\n"
   ],
   "metadata": {
    "collapsed": false,
    "pycharm": {
     "name": "#%%\n"
    }
   }
  },
  {
   "cell_type": "code",
   "execution_count": 13,
   "outputs": [],
   "source": [
    "for index_smi in range(2,len(smi)):\n",
    "    smi.loc[index_smi, 'Yesterday Daily Return'] = smi.loc[index_smi-1, 'Daily Return']\n",
    "    smi.loc[index_smi, 'Yesterdays Volume'] = smi.loc[index_smi-1, \"Volume\"]\n"
   ],
   "metadata": {
    "collapsed": false,
    "pycharm": {
     "name": "#%%\n"
    }
   }
  },
  {
   "cell_type": "markdown",
   "source": [
    "Building the ground truth labels"
   ],
   "metadata": {
    "collapsed": false
   }
  },
  {
   "cell_type": "code",
   "execution_count": 14,
   "outputs": [],
   "source": [
    "def build_ground_truth(row):\n",
    "    if row['Daily Return'] > 0:\n",
    "        return True\n",
    "    return False\n",
    "\n",
    "smi['Is Going Up'] = smi.apply (lambda row: build_ground_truth(row), axis=1)"
   ],
   "metadata": {
    "collapsed": false,
    "pycharm": {
     "name": "#%%\n"
    }
   }
  },
  {
   "cell_type": "markdown",
   "source": [
    "Generating the rolling averages of yesterdays daily return. We use yesterday, so we have all the values needed to predict today's binary decision in one row."
   ],
   "metadata": {
    "collapsed": false
   }
  },
  {
   "cell_type": "code",
   "execution_count": 15,
   "outputs": [],
   "source": [
    "\n",
    "smi[\"Return Rolling 5\"] = smi['Yesterday Daily Return'].rolling(5).mean()\n",
    "smi[\"Return Rolling 10\"] = smi['Yesterday Daily Return'].rolling(10).mean()\n",
    "smi[\"Return Rolling 20\"] = smi['Yesterday Daily Return'].rolling(20).mean()\n",
    "smi[\"Return Rolling 50\"] = smi['Yesterday Daily Return'].rolling(50).mean()\n",
    "smi[\"Return Rolling 200\"] = smi['Yesterday Daily Return'].rolling(200).mean()"
   ],
   "metadata": {
    "collapsed": false,
    "pycharm": {
     "name": "#%%\n"
    }
   }
  },
  {
   "cell_type": "markdown",
   "source": [
    "Little Cleanup: replace the NaN with Zeros"
   ],
   "metadata": {
    "collapsed": false
   }
  },
  {
   "cell_type": "code",
   "execution_count": 16,
   "outputs": [],
   "source": [
    "smi = smi.fillna(0)"
   ],
   "metadata": {
    "collapsed": false,
    "pycharm": {
     "name": "#%%\n"
    }
   }
  },
  {
   "cell_type": "markdown",
   "source": [
    "## Subtask a)\n",
    "Now lets find the best correlated values on the binary daily return decision (Is Going Up). We ignore the Dialy Return, Yesterday Daily Return and the open close etc as they would be direct indicators."
   ],
   "metadata": {
    "collapsed": false
   }
  },
  {
   "cell_type": "code",
   "execution_count": 17,
   "outputs": [
    {
     "name": "stdout",
     "output_type": "stream",
     "text": [
      "Correlation on Is Going Up\n",
      "Is Going Up           1.000000\n",
      "Return Rolling 200    0.032377\n",
      "Return Rolling 20     0.012092\n",
      "Return Rolling 50     0.010859\n",
      "Return Rolling 5      0.008622\n",
      "Yesterdays Volume     0.008254\n",
      "Return Rolling 10     0.004978\n",
      "Name: Is Going Up, dtype: float64\n",
      "(['Return Rolling 200', 'Return Rolling 20'],)\n"
     ]
    }
   ],
   "source": [
    "smi_smaller = smi[[\"Return Rolling 5\", \"Return Rolling 10\", \"Return Rolling 20\",\"Return Rolling 50\", \"Return Rolling 200\", \"Yesterdays Volume\",\"Is Going Up\"]]\n",
    "\n",
    "correlation_binary_decision = print_correlation(smi_smaller, 'Is Going Up')\n",
    "highest_correlated_parameters = get_highest_correlated_parameters(smi_smaller, \"Is Going Up\"),\n",
    "print(highest_correlated_parameters)"
   ],
   "metadata": {
    "collapsed": false,
    "pycharm": {
     "name": "#%%\n"
    }
   }
  },
  {
   "cell_type": "code",
   "execution_count": 18,
   "outputs": [
    {
     "data": {
      "text/plain": "<Figure size 432x288 with 1 Axes>",
      "image/png": "[encoded data removed]"
     },
     "metadata": {
      "needs_background": "light"
     },
     "output_type": "display_data"
    }
   ],
   "source": [
    "plot.scatter(correlation_binary_decision,correlation_binary_decision.keys())\n",
    "plot.ylabel(\"Attribute Name\")\n",
    "plot.xlabel(\"Correlation to Is Going Up\")\n",
    "plot.title(\"Correlation of Attributes to Is Going Up\")\n",
    "plot.show()"
   ],
   "metadata": {
    "collapsed": false,
    "pycharm": {
     "name": "#%%\n"
    }
   }
  },
  {
   "cell_type": "markdown",
   "source": [
    "## Subtask b)\n",
    "First, lets write our test / train split function, so we have everything to reuse the previous Naive Bayes evaluation function"
   ],
   "metadata": {
    "collapsed": false
   }
  },
  {
   "cell_type": "code",
   "execution_count": 19,
   "outputs": [],
   "source": [
    "def split_function_temporal(attributes, target_values):\n",
    "    offset = 100\n",
    "    attributes_train = attributes[:-offset]\n",
    "    attributes_test = attributes[-offset:]\n",
    "    target_values_train = target_values[:-offset]\n",
    "    target_values_test = target_values[-offset:]\n",
    "    return attributes_train, attributes_test, target_values_train, target_values_test\n"
   ],
   "metadata": {
    "collapsed": false,
    "pycharm": {
     "name": "#%%\n"
    }
   }
  },
  {
   "cell_type": "markdown",
   "source": [
    "Lets pick the ones with the highest correlation: Volume and Yesterday's daily Return\n"
   ],
   "metadata": {
    "collapsed": false
   }
  },
  {
   "cell_type": "code",
   "execution_count": 20,
   "outputs": [
    {
     "name": "stdout",
     "output_type": "stream",
     "text": [
      "Accuracy: 0.6 for Naive Bayes based on Index(['Return Rolling 200', 'Return Rolling 20'], dtype='object')\n"
     ]
    }
   ],
   "source": [
    "smi_predictors = smi_smaller[highest_correlated_parameters[0]]\n",
    "smi_target_value = smi[\"Is Going Up\"]\n",
    "\n",
    "accuracy = predict_and_evaluate_bayes(smi_predictors, smi_target_value, split_function_temporal)"
   ],
   "metadata": {
    "collapsed": false,
    "pycharm": {
     "name": "#%%\n"
    }
   }
  },
  {
   "cell_type": "markdown",
   "source": [
    "We get an accuracy of 0.60 with our train test split (using the last 100 values to test). Although this is not a very good accuracy, with the correlations we have we can not expect more."
   ],
   "metadata": {
    "collapsed": false
   }
  },
  {
   "cell_type": "code",
   "execution_count": 21,
   "outputs": [],
   "source": [
    "def split_function_temporal_larger(attributes, target_values):\n",
    "    offset =400\n",
    "    attributes_train = attributes[:-offset]\n",
    "    attributes_test = attributes[-offset:]\n",
    "    target_values_train = target_values[:-offset]\n",
    "    target_values_test = target_values[-offset:]\n",
    "    return attributes_train, attributes_test, target_values_train, target_values_test"
   ],
   "metadata": {
    "collapsed": false,
    "pycharm": {
     "name": "#%%\n"
    }
   }
  },
  {
   "cell_type": "code",
   "execution_count": 22,
   "outputs": [
    {
     "name": "stdout",
     "output_type": "stream",
     "text": [
      "Accuracy: 0.5525 for Naive Bayes based on Index(['Return Rolling 200', 'Return Rolling 20'], dtype='object')\n"
     ]
    },
    {
     "data": {
      "text/plain": "0.5525"
     },
     "execution_count": 22,
     "metadata": {},
     "output_type": "execute_result"
    }
   ],
   "source": [
    "predict_and_evaluate_bayes(smi_predictors, smi_target_value, split_function_temporal_larger)"
   ],
   "metadata": {
    "collapsed": false,
    "pycharm": {
     "name": "#%%\n"
    }
   }
  },
  {
   "cell_type": "markdown",
   "source": [
    "As we can see from this larger test split, the 0.6 was most likely luck and the true accuracy lies closer to 0.5"
   ],
   "metadata": {
    "collapsed": false
   }
  },
  {
   "cell_type": "markdown",
   "source": [
    "## Other Indices\n",
    "Just for fun, lets see if our naive bayes classifier is as bad for other stock data:"
   ],
   "metadata": {
    "collapsed": false
   }
  },
  {
   "cell_type": "code",
   "execution_count": 23,
   "outputs": [],
   "source": [
    "def evaluate_naive_bayes_for(file_name):\n",
    "    file_type = file_name.split(\".\")[-1]\n",
    "    if(file_type == \"txt\"):\n",
    "        stock_data = pandas.read_csv(file_name, sep=\" \")\n",
    "    else:\n",
    "        stock_data = pandas.read_csv(file_name)\n",
    "    stock_data_name = file_name.split(\"/\")[-1].split(\".\")[-2]\n",
    "    stock_data.name = stock_data_name\n",
    "    stock_data.head(5)\n",
    "\n",
    "\n",
    "    for index_stock_data in range(1,len(stock_data)):\n",
    "        p_t = stock_data.loc[index_stock_data, 'Close']\n",
    "        p_t_minus_1 = stock_data.loc[index_stock_data-1, 'Close']\n",
    "        daily_return = (p_t - p_t_minus_1)/p_t_minus_1\n",
    "        stock_data.loc[index_stock_data, 'Daily Return'] = daily_return\n",
    "\n",
    "    for index_stock_data in range(2,len(stock_data)):\n",
    "        stock_data.loc[index_stock_data, 'Yesterday Daily Return'] = stock_data.loc[index_stock_data-1, 'Daily Return']\n",
    "        stock_data.loc[index_stock_data, 'Yesterdays Volume'] = stock_data.loc[index_stock_data-1, \"Volume\"]\n",
    "\n",
    "    stock_data['Is Going Up'] = stock_data.apply (lambda row: build_ground_truth(row), axis=1)\n",
    "\n",
    "\n",
    "    stock_data[\"Return Rolling 5\"] = stock_data['Yesterday Daily Return'].rolling(5).mean()\n",
    "    stock_data[\"Return Rolling 10\"] = stock_data['Yesterday Daily Return'].rolling(10).mean()\n",
    "    stock_data[\"Return Rolling 20\"] = stock_data['Yesterday Daily Return'].rolling(20).mean()\n",
    "    stock_data[\"Return Rolling 50\"] = stock_data['Yesterday Daily Return'].rolling(50).mean()\n",
    "    stock_data[\"Return Rolling 200\"] = stock_data['Yesterday Daily Return'].rolling(200).mean()\n",
    "\n",
    "    stock_data = stock_data.fillna(0)\n",
    "\n",
    "    stock_data_reduced = stock_data[[\"Return Rolling 5\", \"Return Rolling 10\", \"Return Rolling 20\",\"Return Rolling 50\", \"Return Rolling 200\", \"Yesterdays Volume\",\"Is Going Up\"]]\n",
    "\n",
    "    highest_correlated_parameters = get_highest_correlated_parameters(stock_data_reduced, \"Is Going Up\")\n",
    "\n",
    "    stock_data_prediction = stock_data[highest_correlated_parameters]\n",
    "    stock_data_target_value = stock_data[\"Is Going Up\"]\n",
    "\n",
    "    accuracy = predict_and_evaluate_bayes(stock_data_prediction, stock_data_target_value, split_function_temporal)\n",
    "    return accuracy, stock_data_name"
   ],
   "metadata": {
    "collapsed": false,
    "pycharm": {
     "name": "#%%\n"
    }
   }
  },
  {
   "cell_type": "markdown",
   "source": [
    "Now lets run this upon all the available stock data."
   ],
   "metadata": {
    "collapsed": false
   }
  },
  {
   "cell_type": "code",
   "execution_count": 24,
   "outputs": [],
   "source": [
    "directory = 'Data/AllStockData'\n",
    "availabale_files = []\n",
    "for filename in os.listdir(directory):\n",
    "    f = os.path.join(directory, filename)\n",
    "    # checking if it is a file\n",
    "    if os.path.isfile(f):\n",
    "        availabale_files.append(f)"
   ],
   "metadata": {
    "collapsed": false,
    "pycharm": {
     "name": "#%%\n"
    }
   }
  },
  {
   "cell_type": "code",
   "execution_count": 25,
   "outputs": [
    {
     "name": "stdout",
     "output_type": "stream",
     "text": [
      "Accuracy: 0.56 for Naive Bayes based on Index(['Return Rolling 5', 'Return Rolling 10'], dtype='object')\n",
      "Accuracy: 0.5 for Naive Bayes based on Index(['Yesterdays Volume', 'Return Rolling 10'], dtype='object')\n",
      "Accuracy: 0.5 for Naive Bayes based on Index(['Yesterdays Volume', 'Return Rolling 5'], dtype='object')\n",
      "Accuracy: 0.54 for Naive Bayes based on Index(['Return Rolling 5', 'Return Rolling 10'], dtype='object')\n",
      "Accuracy: 0.49 for Naive Bayes based on Index(['Return Rolling 5', 'Return Rolling 10'], dtype='object')\n",
      "Accuracy: 0.54 for Naive Bayes based on Index(['Return Rolling 5', 'Return Rolling 10'], dtype='object')\n",
      "Accuracy: 0.48 for Naive Bayes based on Index(['Return Rolling 10', 'Return Rolling 5'], dtype='object')\n",
      "Accuracy: 0.64 for Naive Bayes based on Index(['Return Rolling 5', 'Return Rolling 50'], dtype='object')\n",
      "Accuracy: 0.58 for Naive Bayes based on Index(['Return Rolling 10', 'Return Rolling 50'], dtype='object')\n",
      "Accuracy: 0.62 for Naive Bayes based on Index(['Yesterdays Volume', 'Return Rolling 10'], dtype='object')\n",
      "Accuracy: 0.45 for Naive Bayes based on Index(['Yesterdays Volume', 'Return Rolling 20'], dtype='object')\n",
      "Accuracy: 0.47 for Naive Bayes based on Index(['Yesterdays Volume', 'Return Rolling 20'], dtype='object')\n",
      "Accuracy: 0.54 for Naive Bayes based on Index(['Return Rolling 50', 'Return Rolling 10'], dtype='object')\n",
      "Accuracy: 0.47 for Naive Bayes based on Index(['Yesterdays Volume', 'Return Rolling 200'], dtype='object')\n",
      "Accuracy: 0.55 for Naive Bayes based on Index(['Return Rolling 20', 'Return Rolling 10'], dtype='object')\n",
      "Accuracy: 0.52 for Naive Bayes based on Index(['Yesterdays Volume', 'Return Rolling 5'], dtype='object')\n",
      "Accuracy: 0.65 for Naive Bayes based on Index(['Return Rolling 50', 'Return Rolling 10'], dtype='object')\n",
      "Accuracy: 0.51 for Naive Bayes based on Index(['Return Rolling 5', 'Yesterdays Volume'], dtype='object')\n",
      "Accuracy: 0.57 for Naive Bayes based on Index(['Return Rolling 5', 'Return Rolling 10'], dtype='object')\n",
      "Accuracy: 0.56 for Naive Bayes based on Index(['Return Rolling 20', 'Return Rolling 50'], dtype='object')\n",
      "Accuracy: 0.57 for Naive Bayes based on Index(['Return Rolling 5', 'Return Rolling 50'], dtype='object')\n",
      "Accuracy: 0.45 for Naive Bayes based on Index(['Return Rolling 200', 'Return Rolling 5'], dtype='object')\n",
      "Accuracy: 0.59 for Naive Bayes based on Index(['Return Rolling 5', 'Return Rolling 10'], dtype='object')\n",
      "Accuracy: 0.52 for Naive Bayes based on Index(['Return Rolling 5', 'Return Rolling 10'], dtype='object')\n",
      "Accuracy: 0.55 for Naive Bayes based on Index(['Return Rolling 10', 'Return Rolling 20'], dtype='object')\n",
      "Accuracy: 0.58 for Naive Bayes based on Index(['Yesterdays Volume', 'Return Rolling 5'], dtype='object')\n",
      "Accuracy: 0.45 for Naive Bayes based on Index(['Yesterdays Volume', 'Return Rolling 50'], dtype='object')\n",
      "Accuracy: 0.5 for Naive Bayes based on Index(['Return Rolling 5', 'Return Rolling 10'], dtype='object')\n",
      "Accuracy: 0.57 for Naive Bayes based on Index(['Return Rolling 50', 'Return Rolling 20'], dtype='object')\n",
      "Accuracy: 0.61 for Naive Bayes based on Index(['Yesterdays Volume', 'Return Rolling 200'], dtype='object')\n"
     ]
    }
   ],
   "source": [
    "names = []\n",
    "accuracies= []\n",
    "for file in availabale_files:\n",
    "    accuracy, stock_name = evaluate_naive_bayes_for(file)\n",
    "    names.append(stock_name)\n",
    "    accuracies.append(accuracy)"
   ],
   "metadata": {
    "collapsed": false,
    "pycharm": {
     "name": "#%%\n"
    }
   }
  },
  {
   "cell_type": "code",
   "execution_count": 26,
   "outputs": [
    {
     "data": {
      "text/plain": "<Figure size 432x288 with 1 Axes>",
      "image/png": "[encoded data removed]"
     },
     "metadata": {
      "needs_background": "light"
     },
     "output_type": "display_data"
    }
   ],
   "source": [
    "plt = plot.plot(accuracies, names, linestyle='None', marker='.')\n",
    "plot.show()"
   ],
   "metadata": {
    "collapsed": false,
    "pycharm": {
     "name": "#%%\n"
    }
   }
  }
 ],
 "metadata": {
  "kernelspec": {
   "display_name": "Python 3",
   "language": "python",
   "name": "python3"
  },
  "language_info": {
   "codemirror_mode": {
    "name": "ipython",
    "version": 2
   },
   "file_extension": ".py",
   "mimetype": "text/x-python",
   "name": "python",
   "nbconvert_exporter": "python",
   "pygments_lexer": "ipython2",
   "version": "2.7.6"
  }
 },
 "nbformat": 4,
 "nbformat_minor": 0
}