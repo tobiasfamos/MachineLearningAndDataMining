{
 "cells": [
  {
   "cell_type": "markdown",
   "source": [
    "# Exercise 2\n",
    "Author: Tobias Famos\n",
    "For the course Machine Learning and Data Mining"
   ],
   "metadata": {
    "collapsed": false
   }
  },
  {
   "cell_type": "markdown",
   "source": [
    "## Import statements"
   ],
   "metadata": {
    "collapsed": false
   }
  },
  {
   "cell_type": "code",
   "execution_count": 125,
   "outputs": [],
   "source": [
    "import pandas\n",
    "import matplotlib.pyplot as plot\n",
    "from sklearn.naive_bayes import  GaussianNB\n",
    "from sklearn import preprocessing\n",
    "from mlxtend.evaluate import accuracy_score\n",
    "from sklearn.model_selection import train_test_split\n",
    "\n"
   ],
   "metadata": {
    "collapsed": false,
    "pycharm": {
     "name": "#%%\n"
    }
   }
  },
  {
   "cell_type": "markdown",
   "source": [
    "## Task 1: Titanic\n",
    "## Preprocessing\n",
    "Fist lets load the Data"
   ],
   "metadata": {
    "collapsed": false
   }
  },
  {
   "cell_type": "code",
   "execution_count": 126,
   "metadata": {
    "collapsed": true
   },
   "outputs": [
    {
     "data": {
      "text/plain": "   Survived  Pclass                                               Name  \\\n0         0       3                             Mr. Owen Harris Braund   \n1         1       1  Mrs. John Bradley (Florence Briggs Thayer) Cum...   \n2         1       3                              Miss. Laina Heikkinen   \n3         1       1        Mrs. Jacques Heath (Lily May Peel) Futrelle   \n4         0       3                            Mr. William Henry Allen   \n5         0       3                                    Mr. James Moran   \n6         0       1                             Mr. Timothy J McCarthy   \n7         0       3                      Master. Gosta Leonard Palsson   \n8         1       3   Mrs. Oscar W (Elisabeth Vilhelmina Berg) Johnson   \n9         1       2                 Mrs. Nicholas (Adele Achem) Nasser   \n\n      Sex   Age  Siblings/Spouses Aboard  Parents/Children Aboard     Fare  \n0    male  22.0                        1                        0   7.2500  \n1  female  38.0                        1                        0  71.2833  \n2  female  26.0                        0                        0   7.9250  \n3  female  35.0                        1                        0  53.1000  \n4    male  35.0                        0                        0   8.0500  \n5    male  27.0                        0                        0   8.4583  \n6    male  54.0                        0                        0  51.8625  \n7    male   2.0                        3                        1  21.0750  \n8  female  27.0                        0                        2  11.1333  \n9  female  14.0                        1                        0  30.0708  ",
      "text/html": "<div>\n<style scoped>\n    .dataframe tbody tr th:only-of-type {\n        vertical-align: middle;\n    }\n\n    .dataframe tbody tr th {\n        vertical-align: top;\n    }\n\n    .dataframe thead th {\n        text-align: right;\n    }\n</style>\n<table border=\"1\" class=\"dataframe\">\n  <thead>\n    <tr style=\"text-align: right;\">\n      <th></th>\n      <th>Survived</th>\n      <th>Pclass</th>\n      <th>Name</th>\n      <th>Sex</th>\n      <th>Age</th>\n      <th>Siblings/Spouses Aboard</th>\n      <th>Parents/Children Aboard</th>\n      <th>Fare</th>\n    </tr>\n  </thead>\n  <tbody>\n    <tr>\n      <th>0</th>\n      <td>0</td>\n      <td>3</td>\n      <td>Mr. Owen Harris Braund</td>\n      <td>male</td>\n      <td>22.0</td>\n      <td>1</td>\n      <td>0</td>\n      <td>7.2500</td>\n    </tr>\n    <tr>\n      <th>1</th>\n      <td>1</td>\n      <td>1</td>\n      <td>Mrs. John Bradley (Florence Briggs Thayer) Cum...</td>\n      <td>female</td>\n      <td>38.0</td>\n      <td>1</td>\n      <td>0</td>\n      <td>71.2833</td>\n    </tr>\n    <tr>\n      <th>2</th>\n      <td>1</td>\n      <td>3</td>\n      <td>Miss. Laina Heikkinen</td>\n      <td>female</td>\n      <td>26.0</td>\n      <td>0</td>\n      <td>0</td>\n      <td>7.9250</td>\n    </tr>\n    <tr>\n      <th>3</th>\n      <td>1</td>\n      <td>1</td>\n      <td>Mrs. Jacques Heath (Lily May Peel) Futrelle</td>\n      <td>female</td>\n      <td>35.0</td>\n      <td>1</td>\n      <td>0</td>\n      <td>53.1000</td>\n    </tr>\n    <tr>\n      <th>4</th>\n      <td>0</td>\n      <td>3</td>\n      <td>Mr. William Henry Allen</td>\n      <td>male</td>\n      <td>35.0</td>\n      <td>0</td>\n      <td>0</td>\n      <td>8.0500</td>\n    </tr>\n    <tr>\n      <th>5</th>\n      <td>0</td>\n      <td>3</td>\n      <td>Mr. James Moran</td>\n      <td>male</td>\n      <td>27.0</td>\n      <td>0</td>\n      <td>0</td>\n      <td>8.4583</td>\n    </tr>\n    <tr>\n      <th>6</th>\n      <td>0</td>\n      <td>1</td>\n      <td>Mr. Timothy J McCarthy</td>\n      <td>male</td>\n      <td>54.0</td>\n      <td>0</td>\n      <td>0</td>\n      <td>51.8625</td>\n    </tr>\n    <tr>\n      <th>7</th>\n      <td>0</td>\n      <td>3</td>\n      <td>Master. Gosta Leonard Palsson</td>\n      <td>male</td>\n      <td>2.0</td>\n      <td>3</td>\n      <td>1</td>\n      <td>21.0750</td>\n    </tr>\n    <tr>\n      <th>8</th>\n      <td>1</td>\n      <td>3</td>\n      <td>Mrs. Oscar W (Elisabeth Vilhelmina Berg) Johnson</td>\n      <td>female</td>\n      <td>27.0</td>\n      <td>0</td>\n      <td>2</td>\n      <td>11.1333</td>\n    </tr>\n    <tr>\n      <th>9</th>\n      <td>1</td>\n      <td>2</td>\n      <td>Mrs. Nicholas (Adele Achem) Nasser</td>\n      <td>female</td>\n      <td>14.0</td>\n      <td>1</td>\n      <td>0</td>\n      <td>30.0708</td>\n    </tr>\n  </tbody>\n</table>\n</div>"
     },
     "execution_count": 126,
     "metadata": {},
     "output_type": "execute_result"
    }
   ],
   "source": [
    "titanic = pandas.read_csv(\"Data/titanic.csv\")\n",
    "titanic.head(10)"
   ]
  },
  {
   "cell_type": "markdown",
   "source": [
    "Now, we need to create labels from the binary attributes (Sex and Survived)"
   ],
   "metadata": {
    "collapsed": false
   }
  },
  {
   "cell_type": "code",
   "execution_count": 127,
   "outputs": [],
   "source": [
    "le = preprocessing.LabelEncoder()\n",
    "titanic[\"Sex\"] = le.fit_transform(titanic[\"Sex\"])\n",
    "titanic[\"Survived\"] = le.fit_transform(titanic[\"Survived\"])\n",
    "titanic[\"Name\"] = le.fit_transform(titanic[\"Name\"])"
   ],
   "metadata": {
    "collapsed": false,
    "pycharm": {
     "name": "#%%\n"
    }
   }
  },
  {
   "cell_type": "markdown",
   "source": [
    "## Subtask a)\n",
    "As we can see from the code lines below, the tho most siginificant correlations are Sex and PClass (to have them sorted we aI applied the Absolute values)"
   ],
   "metadata": {
    "collapsed": false
   }
  },
  {
   "cell_type": "code",
   "execution_count": 128,
   "outputs": [
    {
     "name": "stdout",
     "output_type": "stream",
     "text": [
      "Survived                   1.000000\n",
      "Sex                        0.542152\n",
      "Pclass                     0.336528\n",
      "Fare                       0.256179\n",
      "Name                       0.103486\n",
      "Parents/Children Aboard    0.080097\n",
      "Age                        0.059665\n",
      "Siblings/Spouses Aboard    0.037082\n",
      "Name: Survived, dtype: float64\n"
     ]
    }
   ],
   "source": [
    "correlation = titanic.corr()[\"Survived\"]\n",
    "correlation = correlation.apply(lambda entry: abs(entry))\n",
    "print(correlation.sort_values(ascending=False))"
   ],
   "metadata": {
    "collapsed": false,
    "pycharm": {
     "name": "#%%\n"
    }
   }
  },
  {
   "cell_type": "markdown",
   "source": [],
   "metadata": {
    "collapsed": false
   }
  },
  {
   "cell_type": "markdown",
   "source": [
    "## Subtask b)\n",
    "Define a training and evaluation function based on a 75 / 25 split using naive Bayes."
   ],
   "metadata": {
    "collapsed": false
   }
  },
  {
   "cell_type": "code",
   "execution_count": 129,
   "outputs": [],
   "source": [
    "def predict_and_evaluate_bayes(attributes, target_value):\n",
    "    naive_bayes = GaussianNB()\n",
    "\n",
    "    attributes_train, attributes_test, target_value_train, target_value_test = train_test_split(attributes, target_value, test_size=0.25, random_state=12)\n",
    "\n",
    "    naive_bayes.fit(attributes_train, target_value_train)\n",
    "    test_predictions = naive_bayes.predict(attributes_test)\n",
    "    accuracy = accuracy_score(target_value_test, test_predictions)\n",
    "    print(f'Accuracy: {round(accuracy,4)} for Naive Bayes based on {attributes.keys()}' )\n",
    "    return accuracy"
   ],
   "metadata": {
    "collapsed": false,
    "pycharm": {
     "name": "#%%\n"
    }
   }
  },
  {
   "cell_type": "markdown",
   "source": [
    "Select the two highest correlated predictors. and the targe value"
   ],
   "metadata": {
    "collapsed": false
   }
  },
  {
   "cell_type": "code",
   "execution_count": 130,
   "outputs": [],
   "source": [
    "titanic_correlated_predictors = titanic[[\"Sex\", \"Pclass\"]]\n",
    "titanic_target_value = titanic[\"Survived\"]"
   ],
   "metadata": {
    "collapsed": false,
    "pycharm": {
     "name": "#%%\n"
    }
   }
  },
  {
   "cell_type": "markdown",
   "source": [
    "Now lets train and evaluate the model based on Sex and class:"
   ],
   "metadata": {
    "collapsed": false
   }
  },
  {
   "cell_type": "code",
   "execution_count": 131,
   "outputs": [
    {
     "name": "stdout",
     "output_type": "stream",
     "text": [
      "Accuracy: 0.8243 for Naive Bayes based on Index(['Sex', 'Pclass'], dtype='object')\n"
     ]
    }
   ],
   "source": [
    "accuracy = predict_and_evaluate_bayes(titanic_correlated_predictors, titanic_target_value)"
   ],
   "metadata": {
    "collapsed": false,
    "pycharm": {
     "name": "#%%\n"
    }
   }
  },
  {
   "cell_type": "markdown",
   "source": [
    "## Subtask c)\n",
    "Now lets add all the predictors and compare."
   ],
   "metadata": {
    "collapsed": false
   }
  },
  {
   "cell_type": "markdown",
   "source": [],
   "metadata": {
    "collapsed": false
   }
  },
  {
   "cell_type": "code",
   "execution_count": 132,
   "outputs": [
    {
     "name": "stdout",
     "output_type": "stream",
     "text": [
      "Accuracy: 0.8243 for Naive Bayes based on Index(['Sex'], dtype='object')\n",
      "Accuracy: 0.8243 for Naive Bayes based on Index(['Sex', 'Pclass'], dtype='object')\n",
      "Accuracy: 0.7387 for Naive Bayes based on Index(['Sex', 'Pclass', 'Fare'], dtype='object')\n",
      "Accuracy: 0.7883 for Naive Bayes based on Index(['Sex', 'Pclass', 'Fare', 'Name'], dtype='object')\n",
      "Accuracy: 0.8018 for Naive Bayes based on Index(['Sex', 'Pclass', 'Fare', 'Name', 'Parents/Children Aboard'], dtype='object')\n",
      "Accuracy: 0.8063 for Naive Bayes based on Index(['Sex', 'Pclass', 'Fare', 'Name', 'Parents/Children Aboard', 'Age'], dtype='object')\n",
      "Accuracy: 0.8018 for Naive Bayes based on Index(['Pclass', 'Name', 'Sex', 'Age', 'Siblings/Spouses Aboard',\n",
      "       'Parents/Children Aboard', 'Fare'],\n",
      "      dtype='object')\n"
     ]
    }
   ],
   "source": [
    "titanic_all_predictors =titanic.loc[:,titanic.columns != 'Survived']\n",
    "titanic_predictors = [titanic[[\"Sex\"]],\n",
    "    titanic[[\"Sex\",\"Pclass\"]],\n",
    "    titanic[[\"Sex\", \"Pclass\", \"Fare\"]],\n",
    "    titanic[[\"Sex\", \"Pclass\", \"Fare\",\"Name\"]],\n",
    "    titanic[[\"Sex\", \"Pclass\", \"Fare\",\"Name\", \"Parents/Children Aboard\"]],\n",
    "    titanic[[\"Sex\", \"Pclass\", \"Fare\",\"Name\", \"Parents/Children Aboard\",\"Age\"]],\n",
    "    titanic.loc[:,titanic.columns != 'Survived'],\n",
    "]\n",
    "\n",
    "accuracies = []\n",
    "labels = []\n",
    "for predictor in titanic_predictors:\n",
    "    accuracies.append(predict_and_evaluate_bayes(predictor, titanic_target_value))\n",
    "    labels.append(len(predictor.keys()))\n",
    "\n"
   ],
   "metadata": {
    "collapsed": false,
    "pycharm": {
     "name": "#%%\n"
    }
   }
  },
  {
   "cell_type": "code",
   "execution_count": 133,
   "outputs": [
    {
     "data": {
      "text/plain": "<Figure size 432x288 with 1 Axes>",
      "image/png": "[encoded data removed]"
     },
     "metadata": {
      "needs_background": "light"
     },
     "output_type": "display_data"
    }
   ],
   "source": [
    "plot.plot(labels, accuracies)\n",
    "plot.title(\"Accuracy of Naive Bayes prediction\")\n",
    "plot.xlabel(\"Number of predictors used\")\n",
    "plot.ylabel(\"Accuracy\")\n",
    "plot.show()"
   ],
   "metadata": {
    "collapsed": false,
    "pycharm": {
     "name": "#%%\n"
    }
   }
  },
  {
   "cell_type": "markdown",
   "source": [
    "Now we can interprete these results:\n",
    "Firstly, there seems to be no improvement by using two predictors Sex and Class instead of only Sex. This is constant over multiple seeds for the train / test split. Secondly, we can see that the accuracy drops and rises again. This is a good sign that we did overfit our data by using all the predictors availabale.\n",
    "Also, in my opinion, it is extremely useless to use a generated class over the names"
   ],
   "metadata": {
    "collapsed": false
   }
  },
  {
   "cell_type": "code",
   "execution_count": 133,
   "outputs": [],
   "source": [],
   "metadata": {
    "collapsed": false,
    "pycharm": {
     "name": "#%%\n"
    }
   }
  },
  {
   "cell_type": "markdown",
   "source": [],
   "metadata": {
    "collapsed": false
   }
  }
 ],
 "metadata": {
  "kernelspec": {
   "display_name": "Python 3",
   "language": "python",
   "name": "python3"
  },
  "language_info": {
   "codemirror_mode": {
    "name": "ipython",
    "version": 2
   },
   "file_extension": ".py",
   "mimetype": "text/x-python",
   "name": "python",
   "nbconvert_exporter": "python",
   "pygments_lexer": "ipython2",
   "version": "2.7.6"
  }
 },
 "nbformat": 4,
 "nbformat_minor": 0
}